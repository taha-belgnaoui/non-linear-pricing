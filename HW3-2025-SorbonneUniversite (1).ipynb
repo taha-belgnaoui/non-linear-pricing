{
 "cells": [
  {
   "cell_type": "markdown",
   "metadata": {},
   "source": [
    "### Nonlinear Option Pricing, Master 2 Probabilités et Finance, Sorbonne Université and École polytechnique\n",
    "# Homework III (mandatory: 30% of final grade)\n",
    "\n",
    "### Due Date: 11:55 PM Tuesday, February 25, 2025\n",
    "You should turn in the notebook on the Moodle course website.\n",
    "\n",
    "Please comment your code properly.\n",
    "\n",
    "Before you turn in the notebook, press the \"Run all cells\" button in the toolbar, and make sure all the calculation results and graphs are produced correctly in a reasonable time frame, and then save the notebook."
   ]
  },
  {
   "cell_type": "markdown",
   "metadata": {},
   "source": [
    "# Uncertain Mortality Model vs American Options"
   ]
  },
  {
   "cell_type": "markdown",
   "metadata": {},
   "source": [
    "#### Re-insurance Deals\n",
    "\n",
    "In this assignment, we study the *Uncertain Mortality Model* for the pricing of reinsurance deals. For the sake of simplicity, in this assignment we only consider one type of default: the risk of death.\n",
    "\n",
    "We consider the following reinsurance product:\n",
    "\n",
    "- At maturity, if the insurance subscriber is alive, the issuer delivers a put on the underlying $X$\n",
    "\n",
    "$$\n",
    "u^\\textrm{mat}( x) = (K_\\textrm{mat} - x)_+.\n",
    "$$\n",
    "\n",
    "- At the time of death, if it is before the maturity, the issuer delivers an exit payoff, typically another put on the underlying $X$.\n",
    "\n",
    "$$\n",
    "u^D(t, x) = (K_D - x)_+.\n",
    "$$\n",
    "\n",
    "- The subscriber pays a constant fee $α\\Delta t$ at every time step until death or the maturity or the product\n",
    "\n",
    "- The insurance sells a large number of these contracts to subscribers. We assume that the times of death of the subscribers $\\tau^D$ are independent, and identically distributed, and also independent of the underlying's stock price.\n",
    "\n",
    "- We assume that the underlying's risk neutral price dynamics is the Black-Scholes model with zero interest rate/repo/dividend yield\n",
    "\n",
    "$$\n",
    "dX_t = \\sigma X_t d W_t.\n",
    "$$\n",
    "\n",
    "#### The Insurers' Approach and Risk-Neutral Pricing\n",
    "\n",
    "This contract shows two types of risk: the times of death of the subscribers and the changes in the price of the underlying. \n",
    "\n",
    "In this case, the issuer can apply the insurer's approach to the risk of death times, i.e., the law of large numbers. The more people buy the contract, the less risk.\n",
    "\n",
    "Choosing a risk-neutral measure under which the death times $\\tau^D$ have the same distribution as under the historical probability measure is equivalent to applying the arbitrage-pricing approach to the financial risk insurer's rule on the risk of death. The price of the contract is then\n",
    "\n",
    "$$\n",
    "u(t, x) = \\mathbb{E}^\\mathbb{Q}_{t, x} \\left[u^\\textrm{mat}(X_T) \\mathbb{1}_{\\tau^D \\geq T} -\\int_t^T\\alpha\\mathbb{1}_{\\tau^D>s}ds+ u^D(\\tau^D, X_{\\tau^D}) \\mathbb{1}_{\\tau^D < T} \\right].\n",
    "$$\n",
    "\n",
    "#### Deterministic Death Rate\n",
    "\n",
    "If the death intensity is a deterministic function $\\lambda_t^D$ (i.e. $\\tau^D$ has an exponential distribution with time-dependent intensity $\\lambda_t^D$), then we have seen that $u$ is the solution to the linear PDE\n",
    "\n",
    "$$\n",
    "\\left\\{\\begin{array}{l}\n",
    "\\partial_t u + \\frac{1}{2} \\sigma^2 x^2 \\partial_x^2 u -\\alpha + \\lambda_t^D \\cdot (u^D - u) = 0,\\\\\n",
    "u(T, \\cdot) \\equiv u^\\textrm{mat}.\n",
    "\\end{array}\\right.\n",
    "$$\n",
    "\n",
    "#### Uncertain Mortality Model\n",
    "\n",
    "If the death rate is uncertain, we assume that it is adapted (i.e., it does not look into the future) and belongs to a moving corridor\n",
    "$\\left[\\underline{\\lambda}_t, \\overline{\\lambda}_t\\right]$. The most conservative way to price the contract is to compute the (financially) worst death rate process $\\lambda_t^D$ as being chosen so as to maximize the value of the contract. The resulting HJB equation is\n",
    "\n",
    "$$\n",
    "\\left\\{\\begin{array}{l}\n",
    "\\partial_t u + \\frac{1}{2} \\sigma^2 x^2 \\partial^2_x u -\\alpha + \\Lambda^D(t, u^D - u) \\cdot (u^D - u) = 0,\\\\\n",
    "u(T, \\cdot) \\equiv u^\\textrm{mat},\n",
    "\\end{array}\\right.\n",
    "$$\n",
    "where the function $\\Lambda^D$ is defined by\n",
    "$$\n",
    "\\Lambda^D (t, y) = \\left\\{\\begin{array}{l}\n",
    "    \\overline{\\lambda}^D_t \\quad \\textrm{if} \\ y \\geq 0, \\\\\n",
    "    \\underline{\\lambda}^D_t \\quad \\textrm{otherwise.}\n",
    "\\end{array}\\right.\n",
    "$$"
   ]
  },
  {
   "cell_type": "markdown",
   "metadata": {},
   "source": [
    "## Link with $1$-BSDE and Numerical Schemes\n",
    "\n",
    "From the Pardoux-Peng theorem, we know that the solution $u(0, x)$ can be represented as the solution $Y_0^x$ to the $1$-BSDE\n",
    "\n",
    "$$\n",
    "dY_t = -f(t, X_t, Y_t, Z_t) \\, dt + Z_t \\, dW_t,\n",
    "$$\n",
    "\n",
    "with the terminal condition $Y_T = u^\\textrm{mat} (X_T)$, where $X_0 = x$ and\n",
    "\n",
    "$$\n",
    "f(t, x, y, z) = -\\alpha + \\Lambda^D(t, u^D(t, x) - y) \\cdot (u^D(t, x) - y).\n",
    "$$\n",
    "\n",
    "\n",
    "## BSDE Discretization\n",
    "\n",
    "### Explicit Euler Schemes\n",
    "\n",
    "\\begin{align*}\n",
    "Y_{t_n} =& \\ u^{\\text{mat}}\\left(X_{t_n}\\right)\\\\\n",
    "Y_{t_{i - 1}} =& \\ \\mathbb{E}^\\mathbb{Q}_{i - 1} [ Y_{t_i} ] -\\alpha\\Delta t_i + \\Lambda^D \\left(t_{i - 1}, u^D(t_{i - 1} , X_{t_{i - 1}}) - \\mathbb{E}^\\mathbb{Q}_{i - 1} [ Y_{t_i} ]\\right) \\cdot \\left( u^D(t_{i - 1}, X_{t_{i - 1}}) - \\mathbb{E}^\\mathbb{Q}_{i - 1} [ Y_{t_i} ] \\right) \\Delta t_i\\\\\n",
    "=& -\\alpha\\Delta t_i + \\left( \\mathbb{E}^\\mathbb{Q}_{i - 1} [ Y_{t_i} ] \\left( 1 - \\overline{\\lambda}^D \\Delta t_i \\right) +\n",
    "u^D(t_{i - 1}, X_{t_{i - 1}}) \\overline{\\lambda}^D \\Delta t_i \\right) \\mathbb{1}_{u^D\\left(t_{i - 1}, X_{t_{i - 1}}\\right) \\geq \\mathbb{E}_{i-1}[Y_{t_i}]}\\\\\n",
    "& + \\left( \\mathbb{E}^\\mathbb{Q}_{i - 1} [ Y_{t_i} ] \\left( 1 - \\underline{\\lambda}^D \\Delta t_i \\right) +\n",
    "u^D(t_{i - 1}, X_{t_{i - 1}}) \\underline{\\lambda}^D \\Delta t_i \\right) \\mathbb{1}_{u^D\\left(t_{i - 1}, X_{t_{i - 1}}\\right) < \\mathbb{E}_{i-1}[Y_{t_i}]}.\n",
    "\\end{align*}\n",
    "\n",
    "### Implicit Euler Scheme\n",
    "\n",
    "\\begin{align*}\n",
    "Y_{t_n} =& \\ u^{\\text{mat}}\\left(X_{t_n}\\right)\\\\\n",
    "Y_{t_{i - 1}} =& \\ \\mathbb{E}^\\mathbb{Q}_{i - 1} [Y_{t_i}] -\\alpha\\Delta t_i+ \\Lambda^D \\left(t_{i - 1}, u^D(t_{i - 1}, X_{t_{i - 1}}) - Y_{t_{i - 1}}\\right) \\cdot \\left( u^D(t_{i - 1}, X_{t_{i - 1}}) - Y_{t_{i - 1}} \\right) \\Delta t_i.\n",
    "\\end{align*}\n",
    "\n",
    "The implicit scheme involves $Y_{t_{i - 1}}$ on both sides of the equation, which generally requires a root-finding routine to find $Y_{t_{i - 1}}$. However in this specific case, it can be shown that \n",
    "\n",
    "\\begin{equation}u^D(t_{i-1}, X_{t_{i-1}}) \\geq Y_{t_{i-1}}\\quad\\text{if and only if}\\quad u^D(t_{i-1}, X_{t_{i-1}}) \\geq \\mathbb{E}^{\\mathbb{Q}}_{i-1}\\left[Y_{t_i}\\right]-\\alpha\\Delta t_i.\\end{equation}\n",
    "\n",
    "Thus\n",
    "\n",
    "\\begin{split}\n",
    "Y_{t_{i - 1}} =& \\frac{1}{1 + \\overline{\\lambda}^D \\Delta t_i} \\left( \\mathbb{E}^\\mathbb{Q}_{i - 1} [ Y_{t_i} ] - \\alpha\\Delta t_i +\n",
    "u^D(t_{i - 1}, X_{t_{i - 1}}) \\overline{\\lambda}^D \\Delta t_i \\right) \\mathbb{1}_{u^D\\left(t_{i - 1}, X_{t_{i - 1}}\\right) \\geq \\mathbb{E}_{i-1}[Y_{t_i}]-\\alpha\\Delta t_i}\\\\\n",
    "& + \\frac{1}{1 + \\underline{\\lambda}^D \\Delta t_i} \\left( \\mathbb{E}^\\mathbb{Q}_{i - 1} [ Y_{t_i} ] -\\alpha\\Delta t_i +\n",
    "u^D(t_{i - 1}, X_{t_{i - 1}}) \\underline{\\lambda}^D \\Delta t_i \\right) \\mathbb{1}_{u^D(t_{i - 1}, X_{t_{i - 1}}) < \\mathbb{E}_{i-1}[Y_{t_i}]-\\alpha\\Delta t_i}.\n",
    "\\end{split}\n",
    "\n"
   ]
  },
  {
   "cell_type": "code",
   "execution_count": 3,
   "metadata": {},
   "outputs": [],
   "source": [
    "%matplotlib inline\n",
    "import matplotlib.pyplot as plt\n",
    "import numpy as np\n",
    "from scipy.stats import norm\n",
    "import seaborn as sns\n",
    "import matplotlib as mpl"
   ]
  },
  {
   "cell_type": "code",
   "execution_count": 58,
   "metadata": {},
   "outputs": [],
   "source": [
    "def blackscholes_mc(S=100, vol=0.2, r=0, q=0, ts=np.linspace(0, 1, 13), npaths=10):\n",
    "    \"\"\"Generate Monte-Carlo paths in Black-Scholes model.\n",
    "\n",
    "    Parameters\n",
    "    ----------\n",
    "    S: scalar\n",
    "        The spot price of the underlying security.\n",
    "    vol: scalar\n",
    "        The implied Black-Scholes volatility.\n",
    "    r: scalar\n",
    "        The annualized risk-free interest rate, continuously compounded.\n",
    "    q: scalar\n",
    "        The annualized continuous dividend yield.\n",
    "    ts: array_like\n",
    "        The time steps of the simualtion\n",
    "    npaths: int\n",
    "        the number of paths to simulate\n",
    "\n",
    "    Returns\n",
    "    -------\n",
    "    paths: ndarray\n",
    "        The Monte-Carlo paths.\n",
    "    \"\"\"\n",
    "    nsteps = len(ts) - 1\n",
    "    ts = np.asfarray(ts)[:, np.newaxis]\n",
    "    W = np.cumsum(np.vstack((np.zeros((1, npaths), dtype=np.float64),\n",
    "                             np.random.randn(nsteps, npaths) * np.sqrt(np.diff(ts, axis=0)))),\n",
    "                  axis=0)\n",
    "    paths = np.exp(-0.5*vol**2*ts + vol*W)*S*np.exp((r-q)*ts)\n",
    "    return paths\n",
    "\n",
    "def blackscholes_price(K, T, S, vol, r=0, q=0, callput='call'):\n",
    "    \"\"\"Compute the call/put option price in the Black-Scholes model\n",
    "    \n",
    "    Parameters\n",
    "    ----------\n",
    "    K: scalar or array_like\n",
    "        The strike of the option.\n",
    "    T: scalar or array_like\n",
    "        The maturity of the option, expressed in years (e.g. 0.25 for 3-month and 2 for 2 years)\n",
    "    S: scalar or array_like\n",
    "        The current price of the underlying asset.\n",
    "    vol: scalar or array_like\n",
    "        The implied Black-Scholes volatility.\n",
    "    r: scalar or array_like\n",
    "        The annualized risk-free interest rate, continuously compounded.\n",
    "    q: scalar or array_like\n",
    "        The annualized continuous dividend yield.\n",
    "    callput: str\n",
    "        Must be either 'call' or 'put'.\n",
    "\n",
    "    Returns\n",
    "    -------\n",
    "    price: scalar or array_like\n",
    "        The price of the option.\n",
    "\n",
    "    Examples\n",
    "    --------\n",
    "    >>> blackscholes_price(95, 0.25, 100, 0.2, r=0.05, callput='put')\n",
    "    1.5342604771222823\n",
    "    \"\"\"\n",
    "    F = S*np.exp((r-q)*T)\n",
    "    v = np.sqrt(vol**2*T)\n",
    "    d1 = np.log(F/K)/v + 0.5*v\n",
    "    d2 = d1 - v\n",
    "    try:\n",
    "        opttype = {'call':1, 'put':-1}[callput.lower()]\n",
    "    except:\n",
    "        raise ValueError('The value of callput must be either \"call\" or \"put\".')\n",
    "    price = opttype*(F*norm.cdf(opttype*d1)-K*norm.cdf(opttype*d2))*np.exp(-r*T)\n",
    "    return price\n",
    "\n",
    "\n",
    "def pwlinear_basis(xknots):\n",
    "    \"\"\"Basis that represent a piecewise linear function with given knots\"\"\"\n",
    "    fs = [lambda x: np.ones_like(x, dtype=np.float64), lambda x: x-xknots[0]]\n",
    "    fs.extend([lambda x, a=xknots[i]: np.maximum(x-a, 0) for i in range(len(xknots))])\n",
    "    return fs\n",
    "\n",
    "\n",
    "def pwlinear_fit(xdata, ydata, xknots):\n",
    "    \"\"\"Fit a piecewise linear function with xknots to xdata and ydata\"\"\"\n",
    "    fs = pwlinear_basis(xknots)\n",
    "    A = np.vstack([f(xdata) for f in fs]).T\n",
    "    ps = np.linalg.lstsq(A, ydata, rcond=None)[0]\n",
    "    return ps, fs"
   ]
  },
  {
   "cell_type": "markdown",
   "metadata": {},
   "source": [
    "<b>Note.</b> To be more specific about the payouts of the product, we make the following assumptions:\n",
    "\n",
    "- We assume that all transactions occur at the end of the month, i.e. the insurance subsriber is expected to pay a fee of $\\alpha/12$ at the end of each month; if the subscriber dies in the middle of the month, the death payment will be made at the end of that month. \n",
    "\n",
    "- If the death occurs at the maturity, we assume that the death comes first and the death payment $u^D$ will be made."
   ]
  },
  {
   "cell_type": "markdown",
   "metadata": {},
   "source": [
    "## Assignment III\n",
    "\n",
    "<b style=\"color:darkorange\">Question 1</b> (Deterministic Mortality Rate Model)\n",
    "\n",
    "We assume that the underlying's risk neutral price dynamics is the Black-Scholes model with zero interest rate/repo/dividend yield\n",
    "\n",
    "$$dX_t = \\sigma X_t d W_t,\\quad X_0=100,\\quad\\sigma=0.3$$\n",
    "\n",
    "We shall price the reinsurance deal using two Monte Carlo methods explained below.\n",
    "\n",
    "<b>(a).</b> (Direct simulation of death times) Implement a Monte Carlo simulation by directly simulating death time $\\tau^D$ for each path to estimate the quantity\n",
    "\n",
    "$$u(t, x) = \\mathbb{E}^\\mathbb{Q}_{t, x} \\left[u^\\textrm{mat}(X_T) \\mathbb{1}_{\\tau^D \\geq T} - \\int_t^T\\alpha \\mathbb{1}_{\\tau^D> s}ds\n",
    "+ u^D(\\tau^D, X_{\\tau^D}) \\mathbb{1}_{\\tau^D < T} \\right],$$\n",
    "\n",
    "when $T=10$, $K_{\\text{mat}}=90$, $K_D=100$, $\\alpha=3$, and $\\tau^D$ has an exponential distribution of constant intensity $\\lambda^D=0.025$. Use monthly time steps.\n",
    "\n",
    "<b>(b).</b> (Averaing over death events) Using the Feynman-Kac formula, derive a stochastic representation of the linear PDE \n",
    "\n",
    "$$\\left\\{\\begin{array}{l}\\partial_t u + \\frac{1}{2}\\sigma^2 x^2 \\partial_x^2 u - \\alpha + \\lambda^D \\cdot (u^D - u) = 0\\\\\n",
    "        u(T, x) \\equiv u^\\textrm{mat}(x)\\end{array}\\right.$$\n",
    "        \n",
    "that does not involve simulating death times $\\tau^D$. Explain how one can get this stochastic representation from the one given in (a). Implement the corresponding Monte Carlo simulation to estimate $u(0,X_0)$."
   ]
  },
  {
   "cell_type": "markdown",
   "metadata": {},
   "source": [
    "<b style=\"color:red\">Warning: during this project i considered that T=10 mean that the time of study is of ten years , and that every month we pay alpha/12"
   ]
  },
  {
   "cell_type": "code",
   "execution_count": 90,
   "metadata": {},
   "outputs": [],
   "source": [
    "sns.set_style(\"whitegrid\")\n",
    "mpl.rcParams['figure.dpi'] = 100\n",
    "params_grid = {\"color\": 'lightgrey', \"linestyle\": 'dotted', \"linewidth\": 0.7 }\n",
    "# note that lambda is a reserved keyword in python, so we use lambd instead\n",
    "\n",
    "def exponential_samples(n, lambd):# mean equal to 1/lambda\n",
    "    \"\"\"Generate n samples from exponential distribution with rate lambd\"\"\"\n",
    "    return -np.log(np.random.rand(n))/lambd\n",
    "\n",
    "T=10 #10 months or 10 years?\n",
    "K_D=100\n",
    "K_mat=90\n",
    "alpha=3\n",
    "lambd=0.025 #mean time of death is 40 months\n",
    "S=100\n",
    "vol=0.3\n",
    "r=0\n",
    "q=0\n",
    "npaths=1000\n",
    "ts = np.linspace(0, T, int(np.round(T*12))+1)\n",
    "dt=ts[1]-ts[0]\n",
    "\n",
    "def u_mat(x):\n",
    "    return np.maximum(K_mat - x, 0)\n",
    "\n",
    "def u_D(x):\n",
    "    return np.maximum(K_D - x, 0)"
   ]
  },
  {
   "cell_type": "markdown",
   "metadata": {},
   "source": [
    "<b style=\"color:green\">Question a</b> (Direct simulation of death times)"
   ]
  },
  {
   "cell_type": "code",
   "execution_count": 82,
   "metadata": {},
   "outputs": [],
   "source": [
    "def bonding_indices(x, L):\n",
    "    if x<=L[0] :return L[0]\n",
    "    if x>L[-1] :return L[-1]\n",
    "    for i in range(len(L)-1):\n",
    "        if L[i] < x <= L[i+1]:\n",
    "            return L[i+1]\n",
    "    "
   ]
  },
  {
   "cell_type": "code",
   "execution_count": 86,
   "metadata": {},
   "outputs": [
    {
     "name": "stdout",
     "output_type": "stream",
     "text": [
      "the price of the reinsurance deal 20.965444738877846\n"
     ]
    }
   ],
   "source": [
    "#ts=np.linspace(0, T*12, T*12+1)\n",
    "paths=blackscholes_mc(S, vol, r, q, ts, npaths)\n",
    "stoping_times=(exponential_samples(npaths, lambd))\n",
    "pathf=paths[-1]\n",
    "\n",
    "\n",
    "#pathi=np.array([paths[:,i][min(int(stoping_times[i])+1,T*12)] for i in range(len(stoping_times))])\n",
    "pathi=np.array([bonding_indices(stoping_times[i], paths[:,i]) for i in range(len(stoping_times))])\n",
    "finalv = np.where(T>= stoping_times, u_D(pathi)-alpha*stoping_times, u_mat(pathf)-alpha*T)\n",
    "\n",
    "#pathi=np.array([paths[:,i][min(int(stoping_times[i])+1,T)] for i in range(len(stoping_times))])\n",
    "#finalv = np.where(T*12 >= stoping_times, u_D(pathi)-alpha/12*stoping_times, u_mat(pathf)-alpha*T)\n",
    "print(\"the price of the reinsurance deal\", np.mean(finalv))\n"
   ]
  },
  {
   "cell_type": "markdown",
   "metadata": {},
   "source": [
    "<b style=\"color:green\">Question b</b> (Averaing over death events) deriving a stochastic representation of the linear PDE \n",
    "\n",
    "The Feynman-Kac formula shows that the solution of the eqaution  $$\\left\\{\\begin{array}{l}\\partial_t u + \\frac{1}{2}\\sigma^2 x^2 \\partial_x^2 u - \\alpha + \\lambda^D \\cdot (u^D - u) = 0\\\\\n",
    "        u(T, x) \\equiv u^\\textrm{mat}(x)\\end{array}\\right.$$\n",
    "is given by $$u(t, x) = \\mathbb{E}^\\mathbb{Q}_{t, x} \\left[ e^{-\\int_t^T \\lambda_D \\, ds}  u_{\\text{mat}}(X_T)+ \\int_t^T e^{-\\int_t^s{\\lambda_D}dv}(-\\alpha + u^D(s, X_{s}) )ds \\right],$$\n",
    "\n",
    "Using the fact that the death times are the first jump times of independent Poisson processes with  deterministic intensities $\\lambda^D$, and independent of $X_{t}:$\n",
    "\n",
    "\n",
    "\n",
    "\n",
    "$$u(t, x) = \\mathbb{E}^\\mathbb{Q}_{t, x} \\left[u^\\textrm{mat}(X_T) \\mathbb{1}_{\\tau^D \\geq T} - \\int_t^T\\alpha \\mathbb{1}_{\\tau^D> s}ds\n",
    "+ u^D(\\tau^D, X_{\\tau^D}) \\mathbb{1}_{\\tau^D < T} \\right],$$\n",
    "\n",
    "\n",
    "$$\n",
    "= \\mathbb{E}^{Q}_{t,x} \\left[ u_{\\text{mat}}(X_T) 1_{\\tau_D \\geq T}  \\right] - \\mathbb{E}^{Q}_{t,x} \\left[\\int_t^T \\alpha 1_{\\tau_D \\geq s} \\, ds\\right]\n",
    "\n",
    "+ \\mathbb{E}^{Q}_{t,x} \\left[ u_D(\\tau_D, X_{\\tau_D}) 1_{\\tau_D < T}  \\right]\n",
    "$$\n",
    "we have:\n",
    "$$\n",
    "\\mathbb{E}^{Q}_{t,x} \\left[ u_{\\text{mat}}(X_T) 1_{\\tau_D \\geq T}  \\right] = e^{-\\int_t^T \\lambda_D \\, ds} \\mathbb{E}^{Q}_{t,x} \\left[ u_{\\text{mat}}(X_T) \\right]\n",
    "$$\n",
    "\n",
    "$$\n",
    "\\mathbb{E}^{Q}_{t,x} \\left[  \\int_t^T \\alpha 1_{\\tau_D \\geq s}  \\, ds \\right] = \\alpha \\int_t^T e^{-\\int_t^s \\lambda_D \\, dv} \\, ds \n",
    "$$\n",
    "\n",
    "$$\n",
    "\\mathbb{E}^{Q}_{t,x} \\left[ u_D(\\tau_D, X_{\\tau_D}) 1_{\\tau_D < T}  \\right] = \\mathbb{E}^{Q}_{t,x} \\left[ \\int_t^T u_D(s, X_s) \\lambda_D e^{-\\int_t^s \\lambda_D(v) \\, dv} \\, ds \\right]\n",
    "$$\n",
    "\n",
    "this imply: \n",
    "$$u(t, x) = \\mathbb{E}^\\mathbb{Q}_{t, x} \\left[ e^{-\\int_t^T \\lambda^D \\, ds}  u_{\\text{mat}}(X_T)+ \\int_t^T e^{-\\int_t^s({\\lambda^D})dv}(-\\alpha +\\lambda_D u^D(s, X_{s}) )ds \\right],$$"
   ]
  },
  {
   "cell_type": "markdown",
   "metadata": {},
   "source": [
    "Implement the corresponding Monte Carlo simulation to estimate $ u(0,X_0)$.\n",
    "\n",
    "$$u(t, x) = \\mathbb{E}^\\mathbb{Q}_{t, x} \\left[ e^{-(T-t) \\lambda^D}  u_{\\text{mat}}(X_T)+ \\int_t^T e^{-(s-t){\\lambda^D}}(-\\alpha +\\lambda_D \\ u^D(s, X_{s}) )ds \\right],$$"
   ]
  },
  {
   "cell_type": "code",
   "execution_count": 87,
   "metadata": {},
   "outputs": [
    {
     "name": "stdout",
     "output_type": "stream",
     "text": [
      "The price of the reinsurance deal using 'Averaing over death events' method: 21.03647818127272\n"
     ]
    }
   ],
   "source": [
    "#g=lambda x,s,t: np.exp(-(s-t)*lambd) * (-alpha/12 +lambd*max(0,K_D-x)) \n",
    "g=lambda x,s,t: np.exp(-(s-t)*lambd) * (-alpha +lambd*max(0,K_D-x)) \n",
    "h=lambda T,t,x: np.exp(-(T-t)*lambd) * u_mat(x)\n",
    "def payoff(path):\n",
    "    dt=ts[1]-ts[0]\n",
    "    s=0\n",
    "    for i in range(len(path)-1):\n",
    "        #s+=g(path[i],i,0)  \n",
    "        s+=g(path[i],i*dt,0)*dt\n",
    "    #s+=h(12*T,0,path[-1])\n",
    "    s+=h(T,0,path[-1])\n",
    "    return s\n",
    "\n",
    "print(\"The price of the reinsurance deal using 'Averaing over death events' method:\", np.mean([payoff(path) for path in np.transpose(paths)]))\n"
   ]
  },
  {
   "cell_type": "markdown",
   "metadata": {},
   "source": [
    "<b style=\"color:darkorange\">Question 2</b> (Uncertain Mortality Rate Model - BSDE)\n",
    "\n",
    "Assume that $\\lambda^D_t \\in \\left[\\underline{\\lambda}^D, \\overline{\\lambda}^D \\right]$, where $\\underline{\\lambda}^D=0.005$ and $\\overline{\\lambda}^D=0.04$.\n",
    "\n",
    "<b>(a).</b> Implement the implicit Euler scheme for BSDE. Use piecewise-linear fit with 10 knots to estimate the conditional expectation $\\mathbb{E}^{\\mathbb{Q}}_{i-1}\\left[Y_{t_i}\\right]$. Use the numpy function percentile to define the minimum and maximum knots. Use the percentiles 1 and 99 percent. Use 100,000 paths.\n",
    "\n",
    "<b>(b).</b> Run an independent new simuation. Use the estimates of $\\mathbb{E}^{\\mathbb{Q}}_{i-1}\\left[Y_{t_i}\\right]$ obtained in (a) to get a lower bound estimate.\n",
    "\n",
    "<b>(c).</b> How does the price compare with the price in the model with deterministic mortality rate $\\underline{\\lambda}^D$? with deterministic mortality rate $\\overline{\\lambda}^D$? Check numerically."
   ]
  },
  {
   "cell_type": "markdown",
   "metadata": {},
   "source": [
    "The HJB equation is : $$\\left\\{\\begin{array}{l}\\partial_t u + \\frac{1}{2}\\sigma^2 x^2 \\partial_x^2 u - \\alpha + \\Lambda_D(t, u_D - u) (u_D - u) = 0\\\\\n",
    "        u(T, x) \\equiv u^\\textrm{mat}(x)\\end{array}\\right.$$\n",
    "\n",
    "\n",
    "$$\n",
    "\\Lambda_D(t, y) = \n",
    "\\begin{cases}\n",
    "\\overline{\\lambda}^D & \\text{if } y \\geq 0 \\\\\n",
    "\\underline{\\lambda}^D, & \\text{otherwise}\n",
    "\\end{cases}\n",
    "$$"
   ]
  },
  {
   "cell_type": "markdown",
   "metadata": {},
   "source": [
    "\\begin{split}\n",
    "Y_{t_{i - 1}} =& \\frac{1}{1 + \\overline{\\lambda}^D \\Delta t_i} \\left( \\mathbb{E}^\\mathbb{Q}_{i - 1} [ Y_{t_i} ] - \\alpha\\Delta t_i +\n",
    "u^D(t_{i - 1}, X_{t_{i - 1}}) \\overline{\\lambda}^D \\Delta t_i \\right) \\mathbb{1}_{u^D\\left(t_{i - 1}, X_{t_{i - 1}}\\right) \\geq \\mathbb{E}_{i-1}[Y_{t_i}]-\\alpha\\Delta t_i}\\\\\n",
    "& + \\frac{1}{1 + \\underline{\\lambda}^D \\Delta t_i} \\left( \\mathbb{E}^\\mathbb{Q}_{i - 1} [ Y_{t_i} ] -\\alpha\\Delta t_i +\n",
    "u^D(t_{i - 1}, X_{t_{i - 1}}) \\underline{\\lambda}^D \\Delta t_i \\right) \\mathbb{1}_{u^D(t_{i - 1}, X_{t_{i - 1}}) < \\mathbb{E}_{i-1}[Y_{t_i}]-\\alpha\\Delta t_i}.\n",
    "\\end{split}\n",
    "\n",
    "$$Y_{t_n} = \\ u^{\\text{mat}}\\left(X_{t_n}\\right)$$"
   ]
  },
  {
   "cell_type": "markdown",
   "metadata": {},
   "source": [
    "<b style=\"color:yellow\">Question a</b> Implementing the implicit Euler scheme for BSDE. Using piecewise-linear fit with 10 knots to estimate the conditional expectation"
   ]
  },
  {
   "cell_type": "code",
   "execution_count": 117,
   "metadata": {},
   "outputs": [],
   "source": [
    "lambda_max = 0.04\n",
    "lambda_min = 0.005\n",
    "\n",
    "\n",
    "def expected(ydata, xdata):\n",
    "    x1 = np.percentile(xdata, 1)\n",
    "    x2 = np.percentile(xdata, 99)\n",
    "    xknots = np.linspace(x1, x2, 10)\n",
    "    ps, fs = pwlinear_fit(xdata, ydata, xknots)\n",
    "    return ps, fs\n",
    "\n",
    "def calculate_Y(xdata, ydata):\n",
    "    ps, fs = expected(ydata, xdata)\n",
    "    E = np.vstack([f(xdata) for f in fs]).T @ ps - alpha * dt\n",
    "\n",
    "    Y = np.where(u_D(xdata) >= E, \n",
    "             (1 / (1 + lambda_max * dt)) * (E + u_D(xdata) * lambda_max * dt),\n",
    "             (1 / (1 + lambda_min * dt)) * (E + u_D(xdata) * lambda_min * dt))\n",
    "\n",
    "    return Y, ps, fs\n",
    "\n",
    "\n",
    "X = blackscholes_mc(S, vol, r, q, ts, npaths)\n",
    "Y= u_mat(X[-1])\n",
    "\n",
    "betas = np.zeros((len(ts)-1, 12))\n",
    "functions = [None] * (len(ts)-1)\n",
    "\n",
    "for i in range(len(ts)-2, -1, -1):\n",
    "    Y, betas[i], functions[i] = calculate_Y(X[i],Y)\n",
    "\n"
   ]
  },
  {
   "cell_type": "markdown",
   "metadata": {},
   "source": [
    "<b style=\"color:yellow\">Question b</b> Runing an independent new simuation to get a lower bound estimate."
   ]
  },
  {
   "cell_type": "code",
   "execution_count": 118,
   "metadata": {},
   "outputs": [
    {
     "name": "stdout",
     "output_type": "stream",
     "text": [
      "[89.1959799  89.56390984 89.55988856 89.44368531]\n",
      "[88.42070127 88.91298538 88.90894723 88.81200293]\n",
      "[87.49711801 87.81713574 87.81478754 87.76746914]\n",
      "[87.20113487 87.51611602 87.51366289 87.46558719]\n",
      "[86.77575202 87.17475766 87.16903909 87.11503708]\n",
      "[86.5835543  87.08449666 87.07631316 87.02344788]\n",
      "[86.03520465 86.8620891  86.85828559 86.81106462]\n",
      "[86.12755543 86.66380815 86.65799094 86.60146436]\n",
      "[85.32880318 86.06715338 86.06157437 86.02918416]\n",
      "[85.50786596 85.9793679  85.97193576 85.95047402]\n",
      "[85.10700742 85.61168981 85.60142225 85.59005495]\n",
      "[85.01184725 85.50433678 85.49571258 85.47644232]\n",
      "[84.29518022 85.06479168 85.05483323 85.03934325]\n",
      "[83.87451086 84.57492604 84.56201825 84.55227809]\n",
      "[83.45736976 84.14445763 84.12737084 84.13218699]\n",
      "[83.16852679 83.90924364 83.89723795 83.90082846]\n",
      "[82.84971121 83.47229956 83.45965261 83.46502931]\n",
      "[82.65328058 83.2546267  83.24078521 83.24538977]\n",
      "[82.08109701 82.83287775 82.8178192  82.82205032]\n",
      "[81.88958219 82.49857778 82.48171725 82.48904956]\n",
      "[81.6286867  82.36208459 82.34983916 82.34258463]\n",
      "[81.81688765 82.22693697 82.21527494 82.20241756]\n",
      "[81.32439905 81.84757487 81.83319171 81.81019642]\n",
      "[80.94183599 81.36415925 81.35001328 81.30741117]\n",
      "[80.35520674 80.86222452 80.83664003 80.79860785]\n",
      "[80.12840843 80.48116194 80.45603691 80.43723212]\n",
      "[79.93462526 80.16623542 80.14550101 80.14131113]\n",
      "[79.69104705 81.31671308 79.93041159 79.91852236]\n",
      "[79.31929722 80.99328245 79.56953758 79.55656707]\n",
      "[78.83549477 81.22110955 79.28010031 79.26114701]\n",
      "[78.36420226 79.76653473 79.04487533 79.03309622]\n",
      "[77.85937613 78.988644   78.77897868 78.75075678]\n",
      "[77.8515573  78.5053542  78.49107995 78.46250378]\n",
      "[77.72477527 79.2913933  78.26009603 78.22754779]\n",
      "[77.63976718 78.80082222 78.09253951 78.06223033]\n",
      "[77.48832311 78.5862144  77.84115395 77.81272137]\n",
      "[77.32136905 78.84675675 77.67089024 77.58674577]\n",
      "[77.20918466 78.45653827 77.5255019  77.47595258]\n",
      "[77.0156099  78.78716944 77.24863556 77.25603306]\n",
      "[76.69261913 78.1941141  76.91254997 76.94918142]\n",
      "[76.2113555  77.28448939 76.69536518 76.68429144]\n",
      "[76.00472452 76.57622584 76.49383673 76.43994824]\n",
      "[75.41120699 76.37748468 76.25551231 76.21581892]\n",
      "[75.25694254 76.0932825  75.9870929  75.96455326]\n",
      "[75.16497943 76.0169247  75.86273773 75.86160622]\n",
      "[74.4958972  75.80194567 75.68876485 75.60513476]\n",
      "[74.24195391 75.55431232 75.44392115 75.3075023 ]\n",
      "[73.97101368 75.33266108 75.24610741 75.10448735]\n",
      "[72.83473722 75.21225303 75.09612806 75.01229295]\n",
      "[72.88661551 74.97245863 74.80936293 74.83286066]\n",
      "[73.52863804 74.73179356 74.52007682 74.63585758]\n",
      "[72.74715715 74.53367142 74.40786476 74.41163834]\n",
      "[72.85562037 74.3478356  74.21396847 74.19937242]\n",
      "[72.14478995 74.21743741 74.11110988 74.03229907]\n",
      "[71.84101953 73.93372417 73.801635   73.75995015]\n",
      "[71.95891412 73.62827763 73.51233336 73.5537282 ]\n",
      "[71.66636959 73.41788425 73.28081992 73.35255361]\n",
      "[72.03498451 73.16050252 73.03022467 73.08907619]\n",
      "[72.14616725 72.97314589 72.79017102 72.91324833]\n",
      "[72.07468289 72.7288344  72.53832114 72.6741704 ]\n",
      "[71.83053443 72.52679851 72.32693075 72.46062462]\n",
      "[71.61764142 72.42547105 72.30772595 72.33953874]\n",
      "[71.00290147 72.20453687 72.08239143 72.16943163]\n",
      "[71.26285077 71.98260868 71.7960252  71.96233904]\n",
      "[70.90418953 71.82796227 71.68390794 71.7917855 ]\n",
      "[70.707569   71.5923553  71.38744735 71.5682435 ]\n",
      "[70.44195271 71.41022088 71.26400626 71.39149588]\n",
      "[70.45343161 71.15205808 71.01147506 71.12912875]\n",
      "[70.03148813 70.87727686 70.72738319 70.84661803]\n",
      "[69.83335377 70.65698136 70.529281   70.60625927]\n",
      "[69.7671444  70.39276862 70.18015461 70.35073978]\n",
      "[69.51709144 70.24695211 69.97091707 70.16460502]\n",
      "[69.50843649 70.06057828 69.65675364 70.00354801]\n",
      "[69.2969396  69.7917748  69.51374454 69.77662484]\n",
      "[69.17359331 69.63469418 69.27863805 69.61652029]\n",
      "[68.59508196 69.3880666  69.00649059 69.37669816]\n",
      "[68.4151128  69.19657931 68.69190351 69.16950221]\n",
      "[68.20299625 68.98503649 68.52015154 68.99352143]\n",
      "[68.05326394 68.69521902 68.38049908 68.748188  ]\n",
      "[68.04956729 68.44854487 68.0083185  68.56543876]\n",
      "[68.00696646 68.25380082 67.62202967 68.34709337]\n",
      "[67.72870863 68.03492586 67.3169913  68.12332169]\n",
      "[67.69257678 67.75312426 67.4090017  67.93444572]\n",
      "[67.17726335 67.54327012 67.06875612 67.75366195]\n",
      "[66.87802326 67.4135226  66.93146707 67.55101738]\n",
      "[66.62079414 67.08155281 66.66485696 67.28067328]\n",
      "[66.47593402 66.90618626 66.71370045 67.04611918]\n",
      "[66.34564324 66.654489   66.42368363 66.80053936]\n",
      "[66.06542288 66.4822832  66.11323553 66.53529547]\n",
      "[65.78373254 66.20201075 65.53438559 66.06818505]\n",
      "[65.08024083 65.96412541 65.5833766  65.93044981]\n",
      "[64.68351211 65.40129141 64.82021863 65.71147396]\n",
      "[64.38012963 65.08154748 64.76568917 65.66177728]\n",
      "[64.32952407 64.87518984 64.5821446  65.18903204]\n",
      "[63.44354857 64.47794557 64.27728118 65.12821353]\n",
      "[62.98325972 63.91554715 63.6475225  64.89665898]\n",
      "[62.231426   62.75917995 63.3400854  64.69812522]\n",
      "[61.97654121 60.42919349 64.03250115 64.29905579]\n",
      "[61.42837692 60.64770307 63.16128283 64.37768323]\n",
      "[59.95556091 61.30662043 63.15391372 64.13094871]\n",
      "[60.65641832 62.36982126 63.2770078  63.91034517]\n",
      "[59.30208364 61.87800234 62.51555763 63.73264785]\n",
      "[56.94552327 61.09384856 62.91936484 63.46839316]\n",
      "[56.59773981 61.22273694 62.91377663 63.26132974]\n",
      "[53.83800214 56.28118284 62.47061342 63.07140571]\n",
      "[52.15193199 57.83481583 62.38375056 62.93455278]\n",
      "[51.63307563 57.75780176 61.97786498 62.45458822]\n",
      "[50.48836796 59.26457901 61.3511935  61.99812022]\n",
      "[52.23293213 59.33294488 60.60538625 61.29283202]\n",
      "[53.07130114 57.47982385 59.99928767 61.46860676]\n",
      "[53.54808703 53.85738438 59.17537769 61.34169454]\n",
      "[53.83490495 52.6264225  59.3681476  59.69811807]\n",
      "[53.1036678  52.49598536 58.34497425 58.36901616]\n",
      "[52.58696573 51.6335741  59.24304297 56.95095794]\n",
      "[52.29971805 53.53217174 56.86350201 57.04321666]\n",
      "[53.95916729 54.17586333 57.47429415 56.92945716]\n",
      "[53.77724272 55.44356779 55.73286613 55.85198205]\n",
      "[51.73284256 57.61307418 56.82639894 55.40619687]\n",
      "[54.28322028 57.30187671 55.80006804 54.4199255 ]\n",
      "[54.14492755 54.14492755 54.14492755 54.14492755]\n",
      "lower bound estimate 54.144927550625205\n"
     ]
    }
   ],
   "source": [
    "def calculate_Y2(xdata,i):\n",
    "    E = np.vstack([f(xdata) for f in functions[i]]).T @ betas[i] - alpha * dt\n",
    "    Y = np.where(u_D(xdata) >= E, \n",
    "             (1 / (1 + lambda_max * dt)) * (E + u_D(xdata) * lambda_max * dt),\n",
    "             (1 / (1 + lambda_min * dt)) * (E + u_D(xdata) * lambda_min * dt))\n",
    "\n",
    "    return Y\n",
    "\n",
    "X = blackscholes_mc(S, vol, r, q, ts, npaths)\n",
    "Y=u_mat(X[-1])\n",
    "\n",
    "\n",
    "\n",
    "for i in range(len(ts)-2, -1, -1):\n",
    "    Y= calculate_Y2(X[i],i)\n",
    "    print(Y[2:6])\n",
    "print(\"lower bound estimate\", Y[0])"
   ]
  },
  {
   "cell_type": "code",
   "execution_count": 317,
   "metadata": {},
   "outputs": [],
   "source": [
    "def BSDE():\n",
    "    X = blackscholes_mc(S, vol, r, q, ts, npaths)\n",
    "    Y= u_mat(X[-1])\n",
    "    betas = np.zeros((len(ts), 12))\n",
    "    functions = [None] * len(ts)\n",
    "\n",
    "    for i in range(T*12-1, -1, -1):\n",
    "        Y, betas[i], functions[i] = calculate_Y(X[i],Y)\n",
    "\n",
    "####\n",
    "    X = blackscholes_mc(S=S, vol=vol, r=r, q=q, ts=ts, npaths=npaths)\n",
    "    Y=u_mat(X[-1])\n",
    "    for i in range(T*12-1, -1, -1):\n",
    "        Y= calculate_Y2(X[i],i)\n",
    "    return Y[0]"
   ]
  },
  {
   "cell_type": "markdown",
   "metadata": {},
   "source": [
    "\n",
    "<b style=\"color:yellow\">Question c</b>  How does the price compare with the price in the model with deterministic mortality rate $\\underline{\\lambda}^D$ and $\\overline{\\lambda}^D$? Check numerically."
   ]
  },
  {
   "cell_type": "code",
   "execution_count": 293,
   "metadata": {},
   "outputs": [
    {
     "name": "stdout",
     "output_type": "stream",
     "text": [
      "the price of the reinsurance deal with deterministic mortality rate lambda_max: 47.02977246000064\n",
      "the price of the reinsurance deal with deterministic mortality rate lambda_min: 57.07061247304369\n"
     ]
    }
   ],
   "source": [
    "for _ in [lambda_max,lambda_min]:\n",
    "    lambd=_\n",
    "    ts=np.linspace(0, T*12, T*12+1)\n",
    "    paths=blackscholes_mc(S, vol, r, q, ts, npaths)\n",
    "    stoping_times=(exponential_samples(npaths, lambd))\n",
    "    pathf=paths[-1]\n",
    "    pathi=np.array([paths[:,i][min(int(stoping_times[i])+1,T*12)] for i in range(len(stoping_times))])\n",
    "    finalv = np.where(T*12 >= stoping_times, u_D(pathi)-alpha/12*stoping_times, u_mat(pathf)-alpha*T*12)\n",
    "    if _==lambda_max:\n",
    "        print(\"the price of the reinsurance deal with deterministic mortality rate lambda_max:\", np.mean(finalv))\n",
    "    else:\n",
    "        print(\"the price of the reinsurance deal with deterministic mortality rate lambda_min:\", np.mean(finalv))"
   ]
  },
  {
   "cell_type": "code",
   "execution_count": 113,
   "metadata": {},
   "outputs": [
    {
     "name": "stdout",
     "output_type": "stream",
     "text": [
      "the price of the reinsurance deal with deterministic mortality rate lambda_max: 29.445241810933968\n",
      "the price of the reinsurance deal with deterministic mortality rate lambda_min: 47.200882706597724\n"
     ]
    }
   ],
   "source": [
    "for _ in [lambda_max,lambda_min]:\n",
    "    lambd=_\n",
    "    ts=np.linspace(0, T*12, T*12+1)\n",
    "    paths=blackscholes_mc(S, vol, r, q, ts, npaths)\n",
    "    stoping_times=(exponential_samples(npaths, lambd))\n",
    "    pathf=paths[-1]\n",
    "    pathi=np.array([bonding_indices(stoping_times[i], paths[:,i]) for i in range(len(stoping_times))])\n",
    "    finalv = np.where(T>= stoping_times, u_D(pathi)-alpha*stoping_times, u_mat(pathf)-alpha*T)\n",
    "    if _==lambda_max:\n",
    "        print(\"the price of the reinsurance deal with deterministic mortality rate lambda_max:\", np.mean(finalv))\n",
    "    else:\n",
    "        print(\"the price of the reinsurance deal with deterministic mortality rate lambda_min:\", np.mean(finalv))"
   ]
  },
  {
   "cell_type": "markdown",
   "metadata": {},
   "source": [
    " The price found in question 2b) should be higher than both the prices when $\\lambda$ is constant, indeed it is the case "
   ]
  },
  {
   "cell_type": "markdown",
   "metadata": {},
   "source": [
    "<b style=\"color:darkorange\">Question 3</b> (Uncertain Mortality Rate Model - Longstaff and Schwartz) In addition to the BSDE simulation, the reinsurance deals can be priced by adapting the Longstaff-Schwartz algorithm. An implementation of the Longstaff-Schwartz algorithm is provided below for your convenience.\n",
    "\n",
    "The same lower and upper bounds of $\\lambda_t^D$ are used as Question 2.\n",
    "\n",
    "<b>(a).</b> In the example code, we use European put price (the strike is taken to be the average of $K_{\\text{mat}}$ and $K_D$) and constant as basis functions to estimate the sum of future payoffs. Modify the code by using the piecewise-linear fit to estimate the sum of future payoffs.\n",
    "\n",
    "<b>(b).</b> Compare the BSDE scheme with the Longstaff-Schwartz-like scheme in terms of variance. For each method run the two-step procedure (regression and indedenpent pricing) 20 times to estimate variance. Use 5000 paths for regression and 50000 for indepedent pricing.\n",
    "\n",
    "<b>(c).</b> What is approximately the value of the fee $\\alpha$ that makes the deal costless at inception?"
   ]
  },
  {
   "cell_type": "markdown",
   "metadata": {},
   "source": [
    "<b style=\"color:pink\">Question c</b> Longstaff-Schwartz algorithm for Uncertain Mortality Rate Model"
   ]
  },
  {
   "cell_type": "code",
   "execution_count": 291,
   "metadata": {},
   "outputs": [
    {
     "data": {
      "text/plain": [
       "62.81344290342639"
      ]
     },
     "execution_count": 291,
     "metadata": {},
     "output_type": "execute_result"
    }
   ],
   "source": [
    "\n",
    "S = 100\n",
    "vol = 0.3\n",
    "T = 10\n",
    "#ts = np.linspace(0, T, int(np.round(T*12))+1)\n",
    "ts=np.linspace(0, T*12, T*12+1)\n",
    "alpha = 3/12\n",
    "lambda_min = 0.005\n",
    "lambda_max = 0.04\n",
    "\n",
    "K_mat = 90.0\n",
    "K_D = 100.0\n",
    "\n",
    "def u_mat(x):\n",
    "    return np.maximum(K_mat - x, 0)\n",
    "\n",
    "def u_D(x):\n",
    "    return np.maximum(K_D - x, 0)\n",
    "\n",
    "\n",
    "# first Monte Carlo run to estimate the value function by regressions\n",
    "npaths = 5000\n",
    "paths = blackscholes_mc(S=S, vol=vol, r=0, q=0, ts=ts, npaths=npaths)\n",
    "betas = np.zeros((len(ts), 2))\n",
    "V = u_mat(paths[-1])\n",
    "lambd = np.where(u_D(paths[-1]) >= V, lambda_max, lambda_min)\n",
    "K = 0.5*(K_mat+K_D)\n",
    "for i in range(len(ts)-2, 0, -1):\n",
    "    #dt = ts[i+1]-ts[i]\n",
    "    dt=1\n",
    "    p = 1-np.exp(-lambd*dt)\n",
    "    V = p*u_D(paths[i+1]) + (1-p)*V - alpha*dt\n",
    "    Z = blackscholes_price(K, ts[-1]-ts[i], paths[i], vol, callput='put')\n",
    "    A = np.vstack((np.ones_like(Z), Z)).T\n",
    "    betas[i] = np.linalg.lstsq(A, V, rcond=None)[0]\n",
    "    lambd = np.where(u_D(paths[i]) >= betas[i, 0]+betas[i, 1]*Z, lambda_max, lambda_min)\n",
    "\n",
    "# independent simulation to obtain a lower bound\n",
    "npaths = 100000\n",
    "paths = blackscholes_mc(S=S, vol=vol, r=0, q=0, ts=ts, npaths=npaths)\n",
    "V = u_mat(paths[-1])\n",
    "lambd = np.where(u_D(paths[-1]) >= V, lambda_max, lambda_min)\n",
    "K = 0.5*(K_mat+K_D)\n",
    "for i in range(len(ts)-2, -1, -1):\n",
    "    #dt = ts[i+1]-ts[i]\n",
    "    dt=1\n",
    "    p = 1-np.exp(-lambd*dt)\n",
    "    V = p*u_D(paths[i+1]) + (1-p)*V - alpha*dt\n",
    "    Z = blackscholes_price(K, ts[-1]-ts[i], paths[i], vol, callput='put')\n",
    "    lambd = np.where(u_D(paths[i]) >= betas[i, 0]+betas[i, 1]*Z, lambda_max, lambda_min)\n",
    "np.mean(V)"
   ]
  },
  {
   "cell_type": "code",
   "execution_count": 333,
   "metadata": {},
   "outputs": [],
   "source": [
    "\n",
    "def princing_longstaff(alpha):\n",
    "    # longstaff schwartz piecewise\n",
    "    betas = np.zeros((len(ts), 12))\n",
    "    functions = [None] * len(ts)\n",
    "    npaths = 5000\n",
    "    paths = blackscholes_mc(S=S, vol=vol, r=0, q=0, ts=ts, npaths=npaths)\n",
    "    V = u_mat(paths[-1])\n",
    "    lambd = np.where(u_D(paths[-1]) >= V, lambda_max, lambda_min)\n",
    "    K = 0.5*(K_mat+K_D)\n",
    "    for i in range(len(ts)-2, 0, -1):\n",
    "        dt = ts[i+1]-ts[i]\n",
    "        p = 1-np.exp(-lambd*dt)\n",
    "        V = p*u_D(paths[i+1]) + (1-p)*V - alpha*dt #valeur future je pense (equivakent à l'actualisation des payoff optimale futur en americaine )\n",
    "        betas[i], functions[i] =expected(V, paths[i])#expected(ydata, xdata)\n",
    "        lambd = np.where(u_D(paths[i]) >= np.vstack([f(paths[i]) for f in functions[i]]).T @ betas[i], lambda_max, lambda_min)\n",
    "\n",
    "\n",
    "\n",
    "    # independent simulation longstaff schwartz piecewise\n",
    "    npaths = 50000\n",
    "    paths = blackscholes_mc(S=S, vol=vol, r=0, q=0, ts=ts, npaths=npaths)\n",
    "    V = u_mat(paths[-1])\n",
    "    lambd = np.where(u_D(paths[-1]) >= V, lambda_max, lambda_min)\n",
    "    K = 0.5*(K_mat+K_D)\n",
    "    for i in range(len(ts)-2, -1, -1):\n",
    "        dt = ts[i+1]-ts[i]\n",
    "        p = 1-np.exp(-lambd*dt)\n",
    "        V = p*u_D(paths[i+1]) + (1-p)*V - alpha*dt\n",
    "        \n",
    "        if i!=0: lambd = np.where(u_D(paths[i]) >= np.vstack([f(paths[i]) for f in functions[i]]).T @ betas[i], lambda_max, lambda_min)\n",
    "    \n",
    "    return np.mean(V)\n"
   ]
  },
  {
   "cell_type": "markdown",
   "metadata": {},
   "source": [
    "<b style=\"color:pink\">Question b</b> comparing the BSDE scheme with the Longstaff-Schwartz-like scheme"
   ]
  },
  {
   "cell_type": "code",
   "execution_count": 313,
   "metadata": {},
   "outputs": [],
   "source": [
    "def princing_BSDE():\n",
    "    X = blackscholes_mc(S=S, vol=vol, r=r, q=q, ts=ts, npaths=npaths)\n",
    "    Y= u_mat(X[-1])\n",
    "\n",
    "    betas = np.zeros((len(ts), 12))\n",
    "    functions = [None] * len(ts)\n",
    "\n",
    "    for i in range(T*12-1, -1, -1):\n",
    "        Y, betas[i], functions[i] = calculate_Y(X[i],Y)\n",
    "\n",
    "    X = blackscholes_mc(S=S, vol=vol, r=r, q=q, ts=ts, npaths=npaths)\n",
    "    Y=u_mat(X[-1])\n",
    "    for i in range(T*12-1, -1, -1):\n",
    "        Y= calculate_Y2(X[i],i)\n",
    "    return Y[0]"
   ]
  },
  {
   "cell_type": "code",
   "execution_count": 318,
   "metadata": {},
   "outputs": [],
   "source": [
    "V_BSDE=[BSDE() for i in range(20)]"
   ]
  },
  {
   "cell_type": "code",
   "execution_count": 344,
   "metadata": {},
   "outputs": [
    {
     "ename": "TypeError",
     "evalue": "princing_longstaff() missing 1 required positional argument: 'alpha'",
     "output_type": "error",
     "traceback": [
      "\u001b[1;31m---------------------------------------------------------------------------\u001b[0m",
      "\u001b[1;31mTypeError\u001b[0m                                 Traceback (most recent call last)",
      "Cell \u001b[1;32mIn[344], line 1\u001b[0m\n\u001b[1;32m----> 1\u001b[0m V_longstaff\u001b[38;5;241m=\u001b[39m[princing_longstaff() \u001b[38;5;28;01mfor\u001b[39;00m i \u001b[38;5;129;01min\u001b[39;00m \u001b[38;5;28mrange\u001b[39m(\u001b[38;5;241m20\u001b[39m)]\n",
      "Cell \u001b[1;32mIn[344], line 1\u001b[0m, in \u001b[0;36m<listcomp>\u001b[1;34m(.0)\u001b[0m\n\u001b[1;32m----> 1\u001b[0m V_longstaff\u001b[38;5;241m=\u001b[39m[\u001b[43mprincing_longstaff\u001b[49m\u001b[43m(\u001b[49m\u001b[43m)\u001b[49m \u001b[38;5;28;01mfor\u001b[39;00m i \u001b[38;5;129;01min\u001b[39;00m \u001b[38;5;28mrange\u001b[39m(\u001b[38;5;241m20\u001b[39m)]\n",
      "\u001b[1;31mTypeError\u001b[0m: princing_longstaff() missing 1 required positional argument: 'alpha'"
     ]
    }
   ],
   "source": [
    "V_longstaff=[princing_longstaff() for i in range(20)]\n",
    "\n"
   ]
  },
  {
   "cell_type": "code",
   "execution_count": 331,
   "metadata": {},
   "outputs": [
    {
     "name": "stdout",
     "output_type": "stream",
     "text": [
      "0.005859308875093518\n",
      "62.71971881124095\n"
     ]
    }
   ],
   "source": [
    "print(np.var(V_longstaff))\n",
    "print(np.mean(V_longstaff))"
   ]
  },
  {
   "cell_type": "code",
   "execution_count": 332,
   "metadata": {},
   "outputs": [
    {
     "name": "stdout",
     "output_type": "stream",
     "text": [
      "2.0194839173657902e-28\n",
      "64.61931923606794\n"
     ]
    }
   ],
   "source": [
    "print(np.var(V_BSDE))\n",
    "print(np.mean(V_BSDE))"
   ]
  },
  {
   "cell_type": "markdown",
   "metadata": {},
   "source": [
    "<b style=\"color:yellow\">Question c</b>  What is approximately the value of the fee $\\alpha$ that makes the deal costless at inception?"
   ]
  },
  {
   "cell_type": "markdown",
   "metadata": {},
   "source": [
    "<b style=\"color:pink\">Question c</b> The value of the fee alpha that makes the deal costless at inception\n",
    "We can use a gradient descent method to find the alpha that makes the deal costless"
   ]
  },
  {
   "cell_type": "code",
   "execution_count": 339,
   "metadata": {},
   "outputs": [],
   "source": [
    "import numpy as np\n",
    "\n",
    "\n",
    "# Approximation numérique de la dérivée (différences finies centrées)\n",
    "def numerical_derivative(f, x, h=1e-5):\n",
    "    return (f(x + h) - f(x - h)) / (2 * h)\n",
    "\n",
    "# Implémentation de Newton-Raphson\n",
    "def newton_raphson(f, x0, tol=1e-6, max_iter=10, h=1e-5):\n",
    "    x = x0\n",
    "    for _ in range(max_iter):\n",
    "        fx = f(x)\n",
    "        dfx = numerical_derivative(f, x, h)\n",
    "        \"\"\"\n",
    "        if abs(fx) < tol:  # Condition de convergence\n",
    "            return x\n",
    "        \n",
    "        if abs(dfx) < 1e-10:  # Éviter la division par zéro\n",
    "            print(\"La dérivée est trop proche de zéro. L'algorithme s'arrête.\")\n",
    "            return None\"\"\"\n",
    "\n",
    "        x -= fx / dfx  # Mise à jour de Newton-Raphson\n",
    "    \n",
    "    \n",
    "    return x\n",
    "\n",
    "# Paramètres de recherche\n",
    "x0 = 3  # Point de départ\n",
    "\n",
    "# Exécution\n",
    "root = newton_raphson(princing_longstaff, x0)\n",
    "\n",
    "\n"
   ]
  },
  {
   "cell_type": "code",
   "execution_count": 362,
   "metadata": {},
   "outputs": [],
   "source": [
    "alphap=225.56/(12*10)"
   ]
  },
  {
   "cell_type": "code",
   "execution_count": 363,
   "metadata": {},
   "outputs": [
    {
     "data": {
      "text/plain": [
       "0.07475718131590513"
      ]
     },
     "execution_count": 363,
     "metadata": {},
     "output_type": "execute_result"
    }
   ],
   "source": [
    "princing_longstaff(alphap)"
   ]
  },
  {
   "cell_type": "markdown",
   "metadata": {},
   "source": [
    "<b style=\"color:darkorange\">Question 4.</b> Set $K_D=0$, and all the other parameters remain the same, in particualr $\\alpha=3$. Then the default event is equivalent to lapse (with no mortality payoff). It has been observed that insurance subscribers do not lapse optimally, which explains the use of the uncertain lapse model with minimum and maximum lapse rates $\\underline{\\lambda}$, $\\overline{\\lambda}$. \n",
    "\n",
    "<b>(a).</b> If insurance subscribers were to lapse optimally, i.e., exercise optimally their option to lapse, how would you price the contract?\n",
    "\n",
    "<b>(b).</b> Explain how you can get this price (from optimal exercise) in the uncertain lapse model. Reuse the code provided in Question 3 to show your result (you may have to change some parameters in the code).\n",
    "\n",
    "<b>(c).</b> Implement Longstaff-Schwartz algorithm to price the American option with payoff $u^D=0$ (Always perform a second indepedent run to get a clean lower bound price). Compare the price from uncertain lapse model in part (b) with the American price."
   ]
  },
  {
   "cell_type": "markdown",
   "metadata": {},
   "source": [
    "<b style=\"color:purple\">Question a</b>  how  to price the contract?"
   ]
  },
  {
   "cell_type": "markdown",
   "metadata": {},
   "source": [
    "If insurance subscribers were to lapse optimally, the pricing of the contract would be analogous to valuing an American-style option, where the policyholder has the right to terminate the contract at any time in order to maximize their financial gain.\n",
    "\n",
    "\n",
    "The policyholder faces an optimal stopping problem: they decide whether to continue the contract or lapse, depending on whether the continuation value of the contract is greater than the immediate lapse value.\n",
    "This is similar to pricing an American put option, where the policyholder compares the intrinsic value (the immediate lapse value) with the expected future value of holding the contract."
   ]
  },
  {
   "cell_type": "markdown",
   "metadata": {},
   "source": [
    "<b style=\"color:purple\">Question b</b>  price (from optimal exercise) in the uncertain lapse model"
   ]
  },
  {
   "cell_type": "markdown",
   "metadata": {},
   "source": [
    "we can get this price by setting $\\lambda min=0 ,\\lambda max=\\infty$"
   ]
  },
  {
   "cell_type": "code",
   "execution_count": 365,
   "metadata": {},
   "outputs": [
    {
     "data": {
      "text/plain": [
       "72.27450600695923"
      ]
     },
     "execution_count": 365,
     "metadata": {},
     "output_type": "execute_result"
    }
   ],
   "source": [
    "lambda_min=0\n",
    "lambda_max=10000\n",
    "alpha=3\n",
    "princing_longstaff(alpha/12)"
   ]
  },
  {
   "cell_type": "markdown",
   "metadata": {},
   "source": [
    "<b style=\"color:purple\">Question c</b>  Longstaff-Schwartz algorithm to price the American option with payoff $u^D=0$"
   ]
  },
  {
   "cell_type": "markdown",
   "metadata": {},
   "source": [
    "Lets use a polynomial interpolation"
   ]
  },
  {
   "cell_type": "code",
   "execution_count": 50,
   "metadata": {},
   "outputs": [
    {
     "data": {
      "text/plain": [
       "0.25"
      ]
     },
     "execution_count": 50,
     "metadata": {},
     "output_type": "execute_result"
    }
   ],
   "source": [
    "alpha"
   ]
  },
  {
   "cell_type": "code",
   "execution_count": null,
   "metadata": {},
   "outputs": [],
   "source": [
    "payoff = np.maximum(K-paths[-1], 0)\n",
    "for i in range(len(ts)-2, 0, -1):\n",
    "    discount = np.exp(-r*(ts[i+1]-ts[i]))\n",
    "    payoff = payoff*discount\n",
    "    p = np.polyfit(paths[i], payoff, deg=2) #on regresee S{t-1} sur exp(-rt)*(K-St)+\n",
    "    contval = np.polyval(p, paths[i]) #continuation\n",
    "    exerval = np.maximum(K-paths[i], 0) #exercice\n",
    "    # identify the paths where we should exercise\n",
    "    ind = exerval > contval\n",
    "    payoff[ind] = exerval[ind]\n",
    "np.mean(payoff*np.exp(-r*(ts[1]-ts[0])))"
   ]
  },
  {
   "cell_type": "code",
   "execution_count": 56,
   "metadata": {},
   "outputs": [
    {
     "data": {
      "text/plain": [
       "0"
      ]
     },
     "execution_count": 56,
     "metadata": {},
     "output_type": "execute_result"
    }
   ],
   "source": [
    "u_D(9)"
   ]
  },
  {
   "cell_type": "code",
   "execution_count": 57,
   "metadata": {},
   "outputs": [
    {
     "name": "stderr",
     "output_type": "stream",
     "text": [
      "C:\\Users\\tahab\\AppData\\Local\\Temp\\ipykernel_86800\\1448587502.py:10: RankWarning: Polyfit may be poorly conditioned\n",
      "  betas[i]=np.polyfit(paths[i], payoff, deg=4)\n"
     ]
    },
    {
     "name": "stdout",
     "output_type": "stream",
     "text": [
      "0.014194028430224274\n"
     ]
    }
   ],
   "source": [
    "# lets code de longtaff scwartz algorithm\n",
    "K_D=0\n",
    "npaths = 5000\n",
    "paths = blackscholes_mc(S=S, vol=vol, r=0, q=0, ts=ts, npaths=npaths)\n",
    "betas = np.zeros((len(ts), 5))\n",
    "dt=1\n",
    "payoff = u_mat(paths[-1])\n",
    "for i in range(len(ts)-1,-1,-1):\n",
    "    payoff=payoff-alpha/12*dt*i\n",
    "    betas[i]=np.polyfit(paths[i], payoff, deg=4)\n",
    "    contval=np.polyval(betas[i],paths[i])\n",
    "    exerval=u_D(payoff)\n",
    "    ind=exerval>contval\n",
    "    payoff[ind]=exerval[ind]\n",
    "\n",
    "npaths = 50000\n",
    "paths = blackscholes_mc(S=S, vol=vol, r=0, q=0, ts=ts, npaths=npaths)\n",
    "payoff = u_mat(paths[-1])\n",
    "for i in range(len(ts)-1,-1,-1):\n",
    "    payoff=payoff-(alpha/12)*dt*i\n",
    "    contval=np.polyval(betas[i],paths[i])\n",
    "    exerval=u_D(payoff)\n",
    "    ind=exerval>contval\n",
    "    payoff[ind]=exerval[ind]\n",
    "\n",
    "print(np.mean(payoff))"
   ]
  },
  {
   "cell_type": "code",
   "execution_count": 48,
   "metadata": {},
   "outputs": [
    {
     "name": "stderr",
     "output_type": "stream",
     "text": [
      "C:\\Users\\tahab\\AppData\\Local\\Temp\\ipykernel_86800\\1904069175.py:64: RuntimeWarning: divide by zero encountered in divide\n",
      "  d1 = np.log(F/K)/v + 0.5*v\n"
     ]
    },
    {
     "name": "stdout",
     "output_type": "stream",
     "text": [
      "0.017722317902059744\n"
     ]
    }
   ],
   "source": [
    "# lets code de longtaff scwartz algorithm\n",
    "K_D=0\n",
    "npaths = 5000\n",
    "paths = blackscholes_mc(S=S, vol=vol, r=0, q=0, ts=ts, npaths=npaths)\n",
    "betas = np.zeros((len(ts), 2))\n",
    "dt=1\n",
    "payoff = u_mat(paths[-1])\n",
    "for i in range(len(ts)-1,-1,-1):\n",
    "    payoff=payoff-alpha/12*dt*i\n",
    "    Z = blackscholes_price(K, ts[-1]-ts[i], paths[i], vol, callput='put')\n",
    "    A = np.vstack((np.ones_like(Z), Z)).T\n",
    "    betas[i] = np.linalg.lstsq(A, payoff, rcond=None)[0]\n",
    "    contval=betas[i, 0]+betas[i, 1]*Z\n",
    "    exerval=u_D(payoff)\n",
    "    ind=exerval>contval\n",
    "    payoff[ind]=exerval[ind]\n",
    "\n",
    "npaths = 50000\n",
    "paths = blackscholes_mc(S=S, vol=vol, r=0, q=0, ts=ts, npaths=npaths)\n",
    "payoff = u_mat(paths[-1])\n",
    "for i in range(len(ts)-1,-1,-1):\n",
    "    #(payoff[0])\n",
    "    payoff=payoff-(alpha/12)*dt*i\n",
    "    Z = blackscholes_price(K, ts[-1]-ts[i], paths[i], vol, callput='put')\n",
    "    contval=betas[i, 0]+betas[i, 1]*Z\n",
    "    exerval=u_D(payoff)\n",
    "    ind=exerval>contval\n",
    "    payoff[ind]=exerval[ind]\n",
    "\n",
    "print(np.mean(payoff))"
   ]
  },
  {
   "cell_type": "code",
   "execution_count": 49,
   "metadata": {},
   "outputs": [
    {
     "data": {
      "text/plain": [
       "0.017722317902059744"
      ]
     },
     "execution_count": 49,
     "metadata": {},
     "output_type": "execute_result"
    }
   ],
   "source": [
    "np.mean(payoff)"
   ]
  }
 ],
 "metadata": {
  "anaconda-cloud": {},
  "kernelspec": {
   "display_name": "Python 3 (ipykernel)",
   "language": "python",
   "name": "python3"
  },
  "language_info": {
   "codemirror_mode": {
    "name": "ipython",
    "version": 3
   },
   "file_extension": ".py",
   "mimetype": "text/x-python",
   "name": "python",
   "nbconvert_exporter": "python",
   "pygments_lexer": "ipython3",
   "version": "3.10.11"
  },
  "name": "Uncertain Mortality.ipynb"
 },
 "nbformat": 4,
 "nbformat_minor": 4
}
