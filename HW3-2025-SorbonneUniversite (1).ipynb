{
 "cells": [
  {
   "cell_type": "markdown",
   "metadata": {},
   "source": [
    "### Nonlinear Option Pricing, Master 2 Probabilités et Finance, Sorbonne Université and École polytechnique\n",
    "# Homework III (mandatory: 30% of final grade)\n",
    "\n",
    "### Due Date: 11:55 PM Tuesday, February 25, 2025\n",
    "You should turn in the notebook on the Moodle course website.\n",
    "\n",
    "Please comment your code properly.\n",
    "\n",
    "Before you turn in the notebook, press the \"Run all cells\" button in the toolbar, and make sure all the calculation results and graphs are produced correctly in a reasonable time frame, and then save the notebook."
   ]
  },
  {
   "cell_type": "markdown",
   "metadata": {},
   "source": [
    "# Uncertain Mortality Model vs American Options"
   ]
  },
  {
   "cell_type": "markdown",
   "metadata": {},
   "source": [
    "#### Re-insurance Deals\n",
    "\n",
    "In this assignment, we study the *Uncertain Mortality Model* for the pricing of reinsurance deals. For the sake of simplicity, in this assignment we only consider one type of default: the risk of death.\n",
    "\n",
    "We consider the following reinsurance product:\n",
    "\n",
    "- At maturity, if the insurance subscriber is alive, the issuer delivers a put on the underlying $X$\n",
    "\n",
    "$$\n",
    "u^\\textrm{mat}( x) = (K_\\textrm{mat} - x)_+.\n",
    "$$\n",
    "\n",
    "- At the time of death, if it is before the maturity, the issuer delivers an exit payoff, typically another put on the underlying $X$.\n",
    "\n",
    "$$\n",
    "u^D(t, x) = (K_D - x)_+.\n",
    "$$\n",
    "\n",
    "- The subscriber pays a constant fee $α\\Delta t$ at every time step until death or the maturity or the product\n",
    "\n",
    "- The insurance sells a large number of these contracts to subscribers. We assume that the times of death of the subscribers $\\tau^D$ are independent, and identically distributed, and also independent of the underlying's stock price.\n",
    "\n",
    "- We assume that the underlying's risk neutral price dynamics is the Black-Scholes model with zero interest rate/repo/dividend yield\n",
    "\n",
    "$$\n",
    "dX_t = \\sigma X_t d W_t.\n",
    "$$\n",
    "\n",
    "#### The Insurers' Approach and Risk-Neutral Pricing\n",
    "\n",
    "This contract shows two types of risk: the times of death of the subscribers and the changes in the price of the underlying. \n",
    "\n",
    "In this case, the issuer can apply the insurer's approach to the risk of death times, i.e., the law of large numbers. The more people buy the contract, the less risk.\n",
    "\n",
    "Choosing a risk-neutral measure under which the death times $\\tau^D$ have the same distribution as under the historical probability measure is equivalent to applying the arbitrage-pricing approach to the financial risk insurer's rule on the risk of death. The price of the contract is then\n",
    "\n",
    "$$\n",
    "u(t, x) = \\mathbb{E}^\\mathbb{Q}_{t, x} \\left[u^\\textrm{mat}(X_T) \\mathbb{1}_{\\tau^D \\geq T} -\\int_t^T\\alpha\\mathbb{1}_{\\tau^D>s}ds+ u^D(\\tau^D, X_{\\tau^D}) \\mathbb{1}_{\\tau^D < T} \\right].\n",
    "$$\n",
    "\n",
    "#### Deterministic Death Rate\n",
    "\n",
    "If the death intensity is a deterministic function $\\lambda_t^D$ (i.e. $\\tau^D$ has an exponential distribution with time-dependent intensity $\\lambda_t^D$), then we have seen that $u$ is the solution to the linear PDE\n",
    "\n",
    "$$\n",
    "\\left\\{\\begin{array}{l}\n",
    "\\partial_t u + \\frac{1}{2} \\sigma^2 x^2 \\partial_x^2 u -\\alpha + \\lambda_t^D \\cdot (u^D - u) = 0,\\\\\n",
    "u(T, \\cdot) \\equiv u^\\textrm{mat}.\n",
    "\\end{array}\\right.\n",
    "$$\n",
    "\n",
    "#### Uncertain Mortality Model\n",
    "\n",
    "If the death rate is uncertain, we assume that it is adapted (i.e., it does not look into the future) and belongs to a moving corridor\n",
    "$\\left[\\underline{\\lambda}_t, \\overline{\\lambda}_t\\right]$. The most conservative way to price the contract is to compute the (financially) worst death rate process $\\lambda_t^D$ as being chosen so as to maximize the value of the contract. The resulting HJB equation is\n",
    "\n",
    "$$\n",
    "\\left\\{\\begin{array}{l}\n",
    "\\partial_t u + \\frac{1}{2} \\sigma^2 x^2 \\partial^2_x u -\\alpha + \\Lambda^D(t, u^D - u) \\cdot (u^D - u) = 0,\\\\\n",
    "u(T, \\cdot) \\equiv u^\\textrm{mat},\n",
    "\\end{array}\\right.\n",
    "$$\n",
    "where the function $\\Lambda^D$ is defined by\n",
    "$$\n",
    "\\Lambda^D (t, y) = \\left\\{\\begin{array}{l}\n",
    "    \\overline{\\lambda}^D_t \\quad \\textrm{if} \\ y \\geq 0, \\\\\n",
    "    \\underline{\\lambda}^D_t \\quad \\textrm{otherwise.}\n",
    "\\end{array}\\right.\n",
    "$$"
   ]
  },
  {
   "cell_type": "markdown",
   "metadata": {},
   "source": [
    "## Link with $1$-BSDE and Numerical Schemes\n",
    "\n",
    "From the Pardoux-Peng theorem, we know that the solution $u(0, x)$ can be represented as the solution $Y_0^x$ to the $1$-BSDE\n",
    "\n",
    "$$\n",
    "dY_t = -f(t, X_t, Y_t, Z_t) \\, dt + Z_t \\, dW_t,\n",
    "$$\n",
    "\n",
    "with the terminal condition $Y_T = u^\\textrm{mat} (X_T)$, where $X_0 = x$ and\n",
    "\n",
    "$$\n",
    "f(t, x, y, z) = -\\alpha + \\Lambda^D(t, u^D(t, x) - y) \\cdot (u^D(t, x) - y).\n",
    "$$\n",
    "\n",
    "\n",
    "## BSDE Discretization\n",
    "\n",
    "### Explicit Euler Schemes\n",
    "\n",
    "\\begin{align*}\n",
    "Y_{t_n} =& \\ u^{\\text{mat}}\\left(X_{t_n}\\right)\\\\\n",
    "Y_{t_{i - 1}} =& \\ \\mathbb{E}^\\mathbb{Q}_{i - 1} [ Y_{t_i} ] -\\alpha\\Delta t_i + \\Lambda^D \\left(t_{i - 1}, u^D(t_{i - 1} , X_{t_{i - 1}}) - \\mathbb{E}^\\mathbb{Q}_{i - 1} [ Y_{t_i} ]\\right) \\cdot \\left( u^D(t_{i - 1}, X_{t_{i - 1}}) - \\mathbb{E}^\\mathbb{Q}_{i - 1} [ Y_{t_i} ] \\right) \\Delta t_i\\\\\n",
    "=& -\\alpha\\Delta t_i + \\left( \\mathbb{E}^\\mathbb{Q}_{i - 1} [ Y_{t_i} ] \\left( 1 - \\overline{\\lambda}^D \\Delta t_i \\right) +\n",
    "u^D(t_{i - 1}, X_{t_{i - 1}}) \\overline{\\lambda}^D \\Delta t_i \\right) \\mathbb{1}_{u^D\\left(t_{i - 1}, X_{t_{i - 1}}\\right) \\geq \\mathbb{E}_{i-1}[Y_{t_i}]}\\\\\n",
    "& + \\left( \\mathbb{E}^\\mathbb{Q}_{i - 1} [ Y_{t_i} ] \\left( 1 - \\underline{\\lambda}^D \\Delta t_i \\right) +\n",
    "u^D(t_{i - 1}, X_{t_{i - 1}}) \\underline{\\lambda}^D \\Delta t_i \\right) \\mathbb{1}_{u^D\\left(t_{i - 1}, X_{t_{i - 1}}\\right) < \\mathbb{E}_{i-1}[Y_{t_i}]}.\n",
    "\\end{align*}\n",
    "\n",
    "### Implicit Euler Scheme\n",
    "\n",
    "\\begin{align*}\n",
    "Y_{t_n} =& \\ u^{\\text{mat}}\\left(X_{t_n}\\right)\\\\\n",
    "Y_{t_{i - 1}} =& \\ \\mathbb{E}^\\mathbb{Q}_{i - 1} [Y_{t_i}] -\\alpha\\Delta t_i+ \\Lambda^D \\left(t_{i - 1}, u^D(t_{i - 1}, X_{t_{i - 1}}) - Y_{t_{i - 1}}\\right) \\cdot \\left( u^D(t_{i - 1}, X_{t_{i - 1}}) - Y_{t_{i - 1}} \\right) \\Delta t_i.\n",
    "\\end{align*}\n",
    "\n",
    "The implicit scheme involves $Y_{t_{i - 1}}$ on both sides of the equation, which generally requires a root-finding routine to find $Y_{t_{i - 1}}$. However in this specific case, it can be shown that \n",
    "\n",
    "\\begin{equation}u^D(t_{i-1}, X_{t_{i-1}}) \\geq Y_{t_{i-1}}\\quad\\text{if and only if}\\quad u^D(t_{i-1}, X_{t_{i-1}}) \\geq \\mathbb{E}^{\\mathbb{Q}}_{i-1}\\left[Y_{t_i}\\right]-\\alpha\\Delta t_i.\\end{equation}\n",
    "\n",
    "Thus\n",
    "\n",
    "\\begin{split}\n",
    "Y_{t_{i - 1}} =& \\frac{1}{1 + \\overline{\\lambda}^D \\Delta t_i} \\left( \\mathbb{E}^\\mathbb{Q}_{i - 1} [ Y_{t_i} ] - \\alpha\\Delta t_i +\n",
    "u^D(t_{i - 1}, X_{t_{i - 1}}) \\overline{\\lambda}^D \\Delta t_i \\right) \\mathbb{1}_{u^D\\left(t_{i - 1}, X_{t_{i - 1}}\\right) \\geq \\mathbb{E}_{i-1}[Y_{t_i}]-\\alpha\\Delta t_i}\\\\\n",
    "& + \\frac{1}{1 + \\underline{\\lambda}^D \\Delta t_i} \\left( \\mathbb{E}^\\mathbb{Q}_{i - 1} [ Y_{t_i} ] -\\alpha\\Delta t_i +\n",
    "u^D(t_{i - 1}, X_{t_{i - 1}}) \\underline{\\lambda}^D \\Delta t_i \\right) \\mathbb{1}_{u^D(t_{i - 1}, X_{t_{i - 1}}) < \\mathbb{E}_{i-1}[Y_{t_i}]-\\alpha\\Delta t_i}.\n",
    "\\end{split}\n",
    "\n"
   ]
  },
  {
   "cell_type": "code",
   "execution_count": 142,
   "metadata": {},
   "outputs": [],
   "source": [
    "%matplotlib inline\n",
    "import matplotlib.pyplot as plt\n",
    "import numpy as np\n",
    "from scipy.stats import norm\n",
    "import seaborn as sns\n",
    "import matplotlib as mpl"
   ]
  },
  {
   "cell_type": "code",
   "execution_count": 143,
   "metadata": {},
   "outputs": [],
   "source": [
    "def blackscholes_mc(S, vol, r, q, ts, npaths):\n",
    "    \"\"\"Generate Monte-Carlo paths in Black-Scholes model.\n",
    "\n",
    "    Parameters\n",
    "    ----------\n",
    "    S: scalar\n",
    "        The spot price of the underlying security.\n",
    "    vol: scalar\n",
    "        The implied Black-Scholes volatility.\n",
    "    r: scalar\n",
    "        The annualized risk-free interest rate, continuously compounded.\n",
    "    q: scalar\n",
    "        The annualized continuous dividend yield.\n",
    "    ts: array_like\n",
    "        The time steps of the simualtion\n",
    "    npaths: int\n",
    "        the number of paths to simulate\n",
    "\n",
    "    Returns\n",
    "    -------\n",
    "    paths: ndarray\n",
    "        The Monte-Carlo paths.\n",
    "    \"\"\"\n",
    "    nsteps = len(ts) - 1\n",
    "    ts = np.asfarray(ts)[:, np.newaxis]\n",
    "    W = np.cumsum(np.vstack((np.zeros((1, npaths), dtype=np.float64),\n",
    "                             np.random.randn(nsteps, npaths) * np.sqrt(np.diff(ts, axis=0)))),\n",
    "                  axis=0)\n",
    "    paths = np.exp(-0.5*vol**2*ts + vol*W)*S*np.exp((r-q)*ts)\n",
    "    return paths\n",
    "\n",
    "def blackscholes_price(K, T, S, vol, r, q, callput='call'):\n",
    "    \"\"\"Compute the call/put option price in the Black-Scholes model\n",
    "    \n",
    "    Parameters\n",
    "    ----------\n",
    "    K: scalar or array_like\n",
    "        The strike of the option.\n",
    "    T: scalar or array_like\n",
    "        The maturity of the option, expressed in years (e.g. 0.25 for 3-month and 2 for 2 years)\n",
    "    S: scalar or array_like\n",
    "        The current price of the underlying asset.\n",
    "    vol: scalar or array_like\n",
    "        The implied Black-Scholes volatility.\n",
    "    r: scalar or array_like\n",
    "        The annualized risk-free interest rate, continuously compounded.\n",
    "    q: scalar or array_like\n",
    "        The annualized continuous dividend yield.\n",
    "    callput: str\n",
    "        Must be either 'call' or 'put'.\n",
    "\n",
    "    Returns\n",
    "    -------\n",
    "    price: scalar or array_like\n",
    "        The price of the option.\n",
    "\n",
    "    Examples\n",
    "    --------\n",
    "    >>> blackscholes_price(95, 0.25, 100, 0.2, r=0.05, callput='put')\n",
    "    1.5342604771222823\n",
    "    \"\"\"\n",
    "    F = S*np.exp((r-q)*T)\n",
    "    v = np.sqrt(vol**2*T)\n",
    "    d1 = np.log(F/K)/v + 0.5*v\n",
    "    d2 = d1 - v\n",
    "    try:\n",
    "        opttype = {'call':1, 'put':-1}[callput.lower()]\n",
    "    except:\n",
    "        raise ValueError('The value of callput must be either \"call\" or \"put\".')\n",
    "    price = opttype*(F*norm.cdf(opttype*d1)-K*norm.cdf(opttype*d2))*np.exp(-r*T)\n",
    "    return price\n",
    "\n",
    "\n",
    "def pwlinear_basis(xknots):\n",
    "    \"\"\"Basis that represent a piecewise linear function with given knots\"\"\"\n",
    "    fs = [lambda x: np.ones_like(x, dtype=np.float64), lambda x: x-xknots[0]]\n",
    "    fs.extend([lambda x, a=xknots[i]: np.maximum(x-a, 0) for i in range(len(xknots))])\n",
    "    return fs\n",
    "\n",
    "\n",
    "def pwlinear_fit(xdata, ydata, xknots):\n",
    "    \"\"\"Fit a piecewise linear function with xknots to xdata and ydata\"\"\"\n",
    "    fs = pwlinear_basis(xknots)\n",
    "    A = np.vstack([f(xdata) for f in fs]).T\n",
    "    ps = np.linalg.lstsq(A, ydata, rcond=None)[0]\n",
    "    return ps, fs"
   ]
  },
  {
   "cell_type": "markdown",
   "metadata": {},
   "source": [
    "<b>Note.</b> To be more specific about the payouts of the product, we make the following assumptions:\n",
    "\n",
    "- We assume that all transactions occur at the end of the month, i.e. the insurance subsriber is expected to pay a fee of $\\alpha/12$ at the end of each month; if the subscriber dies in the middle of the month, the death payment will be made at the end of that month. \n",
    "\n",
    "- If the death occurs at the maturity, we assume that the death comes first and the death payment $u^D$ will be made."
   ]
  },
  {
   "cell_type": "markdown",
   "metadata": {},
   "source": [
    "## Assignment III\n",
    "\n",
    "<b style=\"color:darkorange\">Question 1</b> (Deterministic Mortality Rate Model)\n",
    "\n",
    "We assume that the underlying's risk neutral price dynamics is the Black-Scholes model with zero interest rate/repo/dividend yield\n",
    "\n",
    "$$dX_t = \\sigma X_t d W_t,\\quad X_0=100,\\quad\\sigma=0.3$$\n",
    "\n",
    "We shall price the reinsurance deal using two Monte Carlo methods explained below.\n",
    "\n",
    "<b>(a).</b> (Direct simulation of death times) Implement a Monte Carlo simulation by directly simulating death time $\\tau^D$ for each path to estimate the quantity\n",
    "\n",
    "$$u(t, x) = \\mathbb{E}^\\mathbb{Q}_{t, x} \\left[u^\\textrm{mat}(X_T) \\mathbb{1}_{\\tau^D \\geq T} - \\int_t^T\\alpha \\mathbb{1}_{\\tau^D> s}ds\n",
    "+ u^D(\\tau^D, X_{\\tau^D}) \\mathbb{1}_{\\tau^D < T} \\right],$$\n",
    "\n",
    "when $T=10$, $K_{\\text{mat}}=90$, $K_D=100$, $\\alpha=3$, and $\\tau^D$ has an exponential distribution of constant intensity $\\lambda^D=0.025$. Use monthly time steps.\n",
    "\n",
    "<b>(b).</b> (Averaing over death events) Using the Feynman-Kac formula, derive a stochastic representation of the linear PDE \n",
    "\n",
    "$$\\left\\{\\begin{array}{l}\\partial_t u + \\frac{1}{2}\\sigma^2 x^2 \\partial_x^2 u - \\alpha + \\lambda^D \\cdot (u^D - u) = 0\\\\\n",
    "        u(T, x) \\equiv u^\\textrm{mat}(x)\\end{array}\\right.$$\n",
    "        \n",
    "that does not involve simulating death times $\\tau^D$. Explain how one can get this stochastic representation from the one given in (a). Implement the corresponding Monte Carlo simulation to estimate $u(0,X_0)$."
   ]
  },
  {
   "cell_type": "code",
   "execution_count": 144,
   "metadata": {},
   "outputs": [],
   "source": [
    "sns.set_style(\"whitegrid\")\n",
    "mpl.rcParams['figure.dpi'] = 100\n",
    "params_grid = {\"color\": 'lightgrey', \"linestyle\": 'dotted', \"linewidth\": 0.7 }\n",
    "# note that lambda is a reserved keyword in python, so we use lambd instead\n",
    "\n",
    "def exponential_samples(n, lambd):# mean equal to 1/lambda\n",
    "    \"\"\"Generate n samples from exponential distribution with rate lambd\"\"\"\n",
    "    return -np.log(np.random.rand(n))/lambd"
   ]
  },
  {
   "cell_type": "code",
   "execution_count": 216,
   "metadata": {},
   "outputs": [],
   "source": [
    "T=10 #10 months or 10 years?\n",
    "K_D=100\n",
    "K_mat=90\n",
    "alpha=3\n",
    "lambd=0.025 #mean time of death is 40 months\n",
    "S=100\n",
    "vol=0.3\n",
    "r=0\n",
    "q=0\n",
    "npaths=50000\n",
    "ts = np.linspace(0, T, int(np.round(T*12))+1)\n",
    "dt=ts[1]-ts[0]\n",
    "\n",
    "def u_mat(x):\n",
    "    return np.maximum(K_mat - x, 0)\n",
    "\n",
    "def u_D(x):\n",
    "    return np.maximum(K_D - x, 0)"
   ]
  },
  {
   "cell_type": "markdown",
   "metadata": {},
   "source": [
    "<b style=\"color:green\">Question a</b> (Direct simulation of death times)"
   ]
  },
  {
   "cell_type": "code",
   "execution_count": 217,
   "metadata": {},
   "outputs": [],
   "source": [
    "def bonding_indices(x, L):\n",
    "\n",
    "    if x>ts[-1] :return L[-1],T\n",
    "    for i in range(len(L)-1):\n",
    "        if ts[i] < x <= ts[i+1]:\n",
    "            return L[i+1],(i+1)*dt"
   ]
  },
  {
   "cell_type": "code",
   "execution_count": 224,
   "metadata": {},
   "outputs": [
    {
     "name": "stdout",
     "output_type": "stream",
     "text": [
      "the price of the reinsurance deal 1.940262559811366\n"
     ]
    }
   ],
   "source": [
    "paths=blackscholes_mc(S, vol, r, q, ts, 50000)\n",
    "stoping_times=(exponential_samples(50000, lambd))\n",
    "pathf=paths[-1]\n",
    "\n",
    "\n",
    "\n",
    "pathi=np.array([bonding_indices(stoping_times[i], paths[:,i])[0] for i in range(len(stoping_times))])\n",
    "stopi=np.array([bonding_indices(stoping_times[i], paths[:,i])[1] for i in range(len(stoping_times))])\n",
    "finalv = np.where(T>= stoping_times, u_D(pathi)-alpha*stopi, u_mat(pathf)-alpha*T)\n",
    "\n",
    "print(\"the price of the reinsurance deal\", np.mean(finalv))\n"
   ]
  },
  {
   "cell_type": "markdown",
   "metadata": {},
   "source": [
    "<b style=\"color:green\">Question b</b> (Averaing over death events) deriving a stochastic representation of the linear PDE \n",
    "\n",
    "The Feynman-Kac formula shows that the solution of the eqaution  $$\\left\\{\\begin{array}{l}\\partial_t u + \\frac{1}{2}\\sigma^2 x^2 \\partial_x^2 u - \\alpha + \\lambda^D \\cdot (u^D - u) = 0\\\\\n",
    "        u(T, x) \\equiv u^\\textrm{mat}(x)\\end{array}\\right.$$\n",
    "is given by $$u(t, x) = \\mathbb{E}^\\mathbb{Q}_{t, x} \\left[ e^{-\\int_t^T \\lambda_D \\, ds}  u_{\\text{mat}}(X_T)+ \\int_t^T e^{-\\int_t^s{\\lambda_D}dv}(-\\alpha + u^D(s, X_{s}) )ds \\right],$$\n",
    "\n",
    "Using the fact that the death times are the first jump times of independent Poisson processes with  deterministic intensities $\\lambda^D$, and independent of $X_{t}:$\n",
    "\n",
    "\n",
    "\n",
    "\n",
    "$$u(t, x) = \\mathbb{E}^\\mathbb{Q}_{t, x} \\left[u^\\textrm{mat}(X_T) \\mathbb{1}_{\\tau^D \\geq T} - \\int_t^T\\alpha \\mathbb{1}_{\\tau^D> s}ds\n",
    "+ u^D(\\tau^D, X_{\\tau^D}) \\mathbb{1}_{\\tau^D < T} \\right],$$\n",
    "\n",
    "\n",
    "$$\n",
    "= \\mathbb{E}^{Q}_{t,x} \\left[ u_{\\text{mat}}(X_T) 1_{\\tau_D \\geq T}  \\right] - \\mathbb{E}^{Q}_{t,x} \\left[\\int_t^T \\alpha 1_{\\tau_D \\geq s} \\, ds\\right]\n",
    "\n",
    "+ \\mathbb{E}^{Q}_{t,x} \\left[ u_D(\\tau_D, X_{\\tau_D}) 1_{\\tau_D < T}  \\right]\n",
    "$$\n",
    "we have:\n",
    "$$\n",
    "\\mathbb{E}^{Q}_{t,x} \\left[ u_{\\text{mat}}(X_T) 1_{\\tau_D \\geq T}  \\right] = e^{-\\int_t^T \\lambda_D \\, ds} \\mathbb{E}^{Q}_{t,x} \\left[ u_{\\text{mat}}(X_T) \\right]\n",
    "$$\n",
    "\n",
    "$$\n",
    "\\mathbb{E}^{Q}_{t,x} \\left[  \\int_t^T \\alpha 1_{\\tau_D \\geq s}  \\, ds \\right] = \\alpha \\int_t^T e^{-\\int_t^s \\lambda_D \\, dv} \\, ds \n",
    "$$\n",
    "\n",
    "$$\n",
    "\\mathbb{E}^{Q}_{t,x} \\left[ u_D(\\tau_D, X_{\\tau_D}) 1_{\\tau_D < T}  \\right] = \\mathbb{E}^{Q}_{t,x} \\left[ \\int_t^T u_D(s, X_s) \\lambda_D e^{-\\int_t^s \\lambda_D(v) \\, dv} \\, ds \\right]\n",
    "$$\n",
    "\n",
    "this imply: \n",
    "$$u(t, x) = \\mathbb{E}^\\mathbb{Q}_{t, x} \\left[ e^{-\\int_t^T \\lambda^D \\, ds}  u_{\\text{mat}}(X_T)+ \\int_t^T e^{-\\int_t^s({\\lambda^D})dv}(-\\alpha +\\lambda_D u^D(s, X_{s}) )ds \\right],$$"
   ]
  },
  {
   "cell_type": "markdown",
   "metadata": {},
   "source": [
    "Implement the corresponding Monte Carlo simulation to estimate $ u(0,X_0)$.\n",
    "\n",
    "$$u(t, x) = \\mathbb{E}^\\mathbb{Q}_{t, x} \\left[ e^{-(T-t) \\lambda^D}  u_{\\text{mat}}(X_T)+ \\int_t^T e^{-(s-t){\\lambda^D}}(-\\alpha +\\lambda_D \\ u^D(s, X_{s}) )ds \\right],$$"
   ]
  },
  {
   "cell_type": "code",
   "execution_count": 148,
   "metadata": {},
   "outputs": [
    {
     "name": "stdout",
     "output_type": "stream",
     "text": [
      "The price of the reinsurance deal using 'Averaing over death events' method: 1.4971236360179365\n"
     ]
    }
   ],
   "source": [
    "\n",
    "g=lambda x,s,t: np.exp(-(s-t)*lambd) * (-alpha +lambd*max(0,K_D-x)) \n",
    "h=lambda T,t,x: np.exp(-(T-t)*lambd) * u_mat(x)\n",
    "def payoff(path):\n",
    "    s=0\n",
    "    for i in range(len(path)-1):\n",
    "        \n",
    "        s+=g(path[i],i*dt,0)*dt\n",
    "    \n",
    "    s+=h(T,0,path[-1])\n",
    "    return s\n",
    "\n",
    "print(\"The price of the reinsurance deal using 'Averaing over death events' method:\", np.mean([payoff(path) for path in np.transpose(paths)]))\n"
   ]
  },
  {
   "cell_type": "markdown",
   "metadata": {},
   "source": [
    "<b style=\"color:darkorange\">Question 2</b> (Uncertain Mortality Rate Model - BSDE)\n",
    "\n",
    "Assume that $\\lambda^D_t \\in \\left[\\underline{\\lambda}^D, \\overline{\\lambda}^D \\right]$, where $\\underline{\\lambda}^D=0.005$ and $\\overline{\\lambda}^D=0.04$.\n",
    "\n",
    "<b>(a).</b> Implement the implicit Euler scheme for BSDE. Use piecewise-linear fit with 10 knots to estimate the conditional expectation $\\mathbb{E}^{\\mathbb{Q}}_{i-1}\\left[Y_{t_i}\\right]$. Use the numpy function percentile to define the minimum and maximum knots. Use the percentiles 1 and 99 percent. Use 100,000 paths.\n",
    "\n",
    "<b>(b).</b> Run an independent new simuation. Use the estimates of $\\mathbb{E}^{\\mathbb{Q}}_{i-1}\\left[Y_{t_i}\\right]$ obtained in (a) to get a lower bound estimate.\n",
    "\n",
    "<b>(c).</b> How does the price compare with the price in the model with deterministic mortality rate $\\underline{\\lambda}^D$? with deterministic mortality rate $\\overline{\\lambda}^D$? Check numerically."
   ]
  },
  {
   "cell_type": "markdown",
   "metadata": {},
   "source": [
    "The HJB equation is : $$\\left\\{\\begin{array}{l}\\partial_t u + \\frac{1}{2}\\sigma^2 x^2 \\partial_x^2 u - \\alpha + \\Lambda_D(t, u_D - u) (u_D - u) = 0\\\\\n",
    "        u(T, x) \\equiv u^\\textrm{mat}(x)\\end{array}\\right.$$\n",
    "\n",
    "\n",
    "$$\n",
    "\\Lambda_D(t, y) = \n",
    "\\begin{cases}\n",
    "\\overline{\\lambda}^D & \\text{if } y \\geq 0 \\\\\n",
    "\\underline{\\lambda}^D, & \\text{otherwise}\n",
    "\\end{cases}\n",
    "$$"
   ]
  },
  {
   "cell_type": "markdown",
   "metadata": {},
   "source": [
    "\\begin{split}\n",
    "Y_{t_{i - 1}} =& \\frac{1}{1 + \\overline{\\lambda}^D \\Delta t_i} \\left( \\mathbb{E}^\\mathbb{Q}_{i - 1} [ Y_{t_i} ] - \\alpha\\Delta t_i +\n",
    "u^D(t_{i - 1}, X_{t_{i - 1}}) \\overline{\\lambda}^D \\Delta t_i \\right) \\mathbb{1}_{u^D\\left(t_{i - 1}, X_{t_{i - 1}}\\right) \\geq \\mathbb{E}_{i-1}[Y_{t_i}]-\\alpha\\Delta t_i}\\\\\n",
    "& + \\frac{1}{1 + \\underline{\\lambda}^D \\Delta t_i} \\left( \\mathbb{E}^\\mathbb{Q}_{i - 1} [ Y_{t_i} ] -\\alpha\\Delta t_i +\n",
    "u^D(t_{i - 1}, X_{t_{i - 1}}) \\underline{\\lambda}^D \\Delta t_i \\right) \\mathbb{1}_{u^D(t_{i - 1}, X_{t_{i - 1}}) < \\mathbb{E}_{i-1}[Y_{t_i}]-\\alpha\\Delta t_i}.\n",
    "\\end{split}\n",
    "\n",
    "$$Y_{t_n} = \\ u^{\\text{mat}}\\left(X_{t_n}\\right)$$"
   ]
  },
  {
   "cell_type": "markdown",
   "metadata": {},
   "source": [
    "<b style=\"color:yellow\">Question a</b> Implementing the implicit Euler scheme for BSDE. Using piecewise-linear fit with 10 knots to estimate the conditional expectation"
   ]
  },
  {
   "cell_type": "code",
   "execution_count": 225,
   "metadata": {},
   "outputs": [],
   "source": [
    "lambda_max = 0.04\n",
    "lambda_min = 0.005\n",
    "\n",
    "\n",
    "def expected(ydata, xdata):\n",
    "    x1 = np.percentile(xdata, 1)\n",
    "    x2 = np.percentile(xdata, 99)\n",
    "    xknots = np.linspace(x1, x2, 10)\n",
    "    ps, fs = pwlinear_fit(xdata, ydata, xknots)\n",
    "    return ps, fs\n",
    "\n",
    "def calculate_Y(xdata, ydata):\n",
    "    ps, fs = expected(ydata, xdata)\n",
    "    E = np.vstack([f(xdata) for f in fs]).T @ ps - alpha * dt\n",
    "\n",
    "    Y = np.where(u_D(xdata) >= E, \n",
    "             (1 / (1 + lambda_max * dt)) * (E + u_D(xdata) * lambda_max * dt),\n",
    "             (1 / (1 + lambda_min * dt)) * (E + u_D(xdata) * lambda_min * dt))\n",
    "\n",
    "    return Y, ps, fs\n",
    "\n",
    "\n",
    "X = blackscholes_mc(S, vol, r, q, ts, npaths)\n",
    "Y= u_mat(X[-1])\n",
    "betas = np.zeros((len(ts)-1, 12))\n",
    "functions = [None] * (len(ts)-1)\n",
    "\n",
    "for i in range(len(ts)-2, -1, -1):\n",
    "    Y, betas[i], functions[i] = calculate_Y(X[i],Y)\n",
    "\n"
   ]
  },
  {
   "cell_type": "markdown",
   "metadata": {},
   "source": [
    "<b style=\"color:yellow\">Question b</b> Runing an independent new simuation to get a lower bound estimate."
   ]
  },
  {
   "cell_type": "code",
   "execution_count": 226,
   "metadata": {},
   "outputs": [
    {
     "name": "stdout",
     "output_type": "stream",
     "text": [
      "lower bound estimate: 3.2849074348367195\n"
     ]
    }
   ],
   "source": [
    "def calculate_Y2(xdata,i,betas):\n",
    "    E = np.vstack([f(xdata) for f in functions[i]]).T @ betas[i] - alpha * dt\n",
    "    Y = np.where(u_D(xdata) >= E, \n",
    "             (1 / (1 + lambda_max * dt)) * (E + u_D(xdata) * lambda_max * dt),\n",
    "             (1 / (1 + lambda_min * dt)) * (E + u_D(xdata) * lambda_min * dt))\n",
    "\n",
    "    return Y\n",
    "\n",
    "X = blackscholes_mc(S, vol, r, q, ts, npaths)\n",
    "Y=u_mat(X[-1])\n",
    "for i in range(len(ts)-2, -1, -1):\n",
    "    Y= calculate_Y2(X[i],i,betas)\n",
    "bsde_price=Y[0]\n",
    "print(\"lower bound estimate:\", (bsde_price))"
   ]
  },
  {
   "cell_type": "markdown",
   "metadata": {},
   "source": [
    "\n",
    "<b style=\"color:yellow\">Question c</b>  How does the price compare with the price in the model with deterministic mortality rate $\\underline{\\lambda}^D$ and $\\overline{\\lambda}^D$? Check numerically."
   ]
  },
  {
   "cell_type": "code",
   "execution_count": 227,
   "metadata": {},
   "outputs": [
    {
     "name": "stdout",
     "output_type": "stream",
     "text": [
      "the price of the reinsurance deal with deterministic mortality rate lambda_max: 2.991758577367988\n",
      "the price of the reinsurance deal with deterministic mortality rate lambda_min: 0.2935126100477354\n",
      "the price of the 'uncertain mortality rate model'  3.2849074348367195\n"
     ]
    }
   ],
   "source": [
    "\n",
    "for _ in [lambda_max,lambda_min]:\n",
    "    lambd=_\n",
    "    stoping_times=(exponential_samples(npaths, lambd))\n",
    "    pathf=paths[-1]\n",
    "    pathi=np.array([bonding_indices(stoping_times[i], paths[:,i])[0] for i in range(len(stoping_times))])\n",
    "    stopi=np.array([bonding_indices(stoping_times[i], paths[:,i])[1] for i in range(len(stoping_times))])\n",
    "    finalv = np.where(T>= stoping_times, u_D(pathi)-alpha*stopi, u_mat(pathf)-alpha*T)\n",
    "    if _==lambda_max:\n",
    "        print(\"the price of the reinsurance deal with deterministic mortality rate lambda_max:\", np.mean(finalv))\n",
    "    else:\n",
    "        print(\"the price of the reinsurance deal with deterministic mortality rate lambda_min:\", np.mean(finalv))\n",
    "\n",
    "\n",
    "print(\"the price of the 'uncertain mortality rate model' \", bsde_price)\n",
    "    "
   ]
  },
  {
   "cell_type": "markdown",
   "metadata": {},
   "source": [
    "The price found in question b is higher than both the prices when $\\lambda$ is constant; indeed, this should be the case because we were searching for the control that maximizes the price among all controls bounded between $\\lambda_{\\text{min}}$ and $\\lambda_{\\text{max}}$"
   ]
  },
  {
   "cell_type": "markdown",
   "metadata": {},
   "source": [
    "<b style=\"color:darkorange\">Question 3</b> (Uncertain Mortality Rate Model - Longstaff and Schwartz) In addition to the BSDE simulation, the reinsurance deals can be priced by adapting the Longstaff-Schwartz algorithm. An implementation of the Longstaff-Schwartz algorithm is provided below for your convenience.\n",
    "\n",
    "The same lower and upper bounds of $\\lambda_t^D$ are used as Question 2.\n",
    "\n",
    "<b>(a).</b> In the example code, we use European put price (the strike is taken to be the average of $K_{\\text{mat}}$ and $K_D$) and constant as basis functions to estimate the sum of future payoffs. Modify the code by using the piecewise-linear fit to estimate the sum of future payoffs.\n",
    "\n",
    "<b>(b).</b> Compare the BSDE scheme with the Longstaff-Schwartz-like scheme in terms of variance. For each method run the two-step procedure (regression and indedenpent pricing) 20 times to estimate variance. Use 5000 paths for regression and 50000 for indepedent pricing.\n",
    "\n",
    "<b>(c).</b> What is approximately the value of the fee $\\alpha$ that makes the deal costless at inception?"
   ]
  },
  {
   "cell_type": "markdown",
   "metadata": {},
   "source": [
    "<b style=\"color:pink\">Question a</b> Longstaff-Schwartz algorithm for Uncertain Mortality Rate Model"
   ]
  },
  {
   "cell_type": "code",
   "execution_count": 152,
   "metadata": {},
   "outputs": [
    {
     "data": {
      "text/plain": [
       "3.194810230598194"
      ]
     },
     "execution_count": 152,
     "metadata": {},
     "output_type": "execute_result"
    }
   ],
   "source": [
    "# Longstaff-Schwartz algorithm for Uncertain Mortality Rate Model\n",
    "S = 100\n",
    "vol = 0.3\n",
    "T = 10\n",
    "ts = np.linspace(0, T, int(np.round(T*12))+1)\n",
    "alpha = 3\n",
    "lambda_min = 0.005\n",
    "lambda_max = 0.04\n",
    "\n",
    "K_mat = 90.0\n",
    "K_D = 100.0\n",
    "\n",
    "def u_mat(x):\n",
    "    return np.maximum(K_mat - x, 0)\n",
    "\n",
    "def u_D(x):\n",
    "    return np.maximum(K_D - x, 0)\n",
    "\n",
    "r=0\n",
    "q=0\n",
    "# first Monte Carlo run to estimate the value function by regressions\n",
    "npaths = 5000\n",
    "paths = blackscholes_mc(S=S, vol=vol, r=0, q=0, ts=ts, npaths=npaths)\n",
    "betas = np.zeros((len(ts), 2))\n",
    "V = u_mat(paths[-1])\n",
    "lambd = np.where(u_D(paths[-1]) >= V, lambda_max, lambda_min)\n",
    "K = 0.5*(K_mat+K_D)\n",
    "for i in range(len(ts)-2, 0, -1):\n",
    "    dt = ts[i+1]-ts[i]\n",
    "    p = 1-np.exp(-lambd*dt)\n",
    "    V = p*u_D(paths[i+1]) + (1-p)*V - alpha*dt\n",
    "    Z = blackscholes_price(K, ts[-1]-ts[i], paths[i], vol, r, q, callput='put')   \n",
    "    A = np.vstack((np.ones_like(Z), Z)).T\n",
    "    betas[i] = np.linalg.lstsq(A, V, rcond=None)[0]\n",
    "    lambd = np.where(u_D(paths[i]) >= betas[i, 0]+betas[i, 1]*Z, lambda_max, lambda_min)\n",
    "\n",
    "# independent simulation to obtain a lower bound\n",
    "npaths = 50000\n",
    "paths = blackscholes_mc(S=S, vol=vol, r=0, q=0, ts=ts, npaths=npaths)\n",
    "V = u_mat(paths[-1])\n",
    "lambd = np.where(u_D(paths[-1]) >= V, lambda_max, lambda_min)\n",
    "K = 0.5*(K_mat+K_D)\n",
    "for i in range(len(ts)-2, -1, -1):\n",
    "    dt = ts[i+1]-ts[i]\n",
    "    p = 1-np.exp(-lambd*dt)\n",
    "    V = p*u_D(paths[i+1]) + (1-p)*V - alpha*dt\n",
    "    Z = blackscholes_price(K, ts[-1]-ts[i], paths[i], vol, r, q, callput='put') \n",
    "    lambd = np.where(u_D(paths[i]) >= betas[i, 0]+betas[i, 1]*Z, lambda_max, lambda_min)\n",
    "np.mean(V)"
   ]
  },
  {
   "cell_type": "code",
   "execution_count": 153,
   "metadata": {},
   "outputs": [],
   "source": [
    "def princing_longstaff(alpha):\n",
    "    # longstaff schwartz piecewise\n",
    "    betas = np.zeros((len(ts), 12))\n",
    "    functions = [None] * len(ts)\n",
    "    paths = blackscholes_mc(S, vol, r, q, ts,5000)\n",
    "    V = u_mat(paths[-1])\n",
    "    lambd = np.where(u_D(paths[-1]) >= V, lambda_max, lambda_min)\n",
    "    K = 0.5*(K_mat+K_D)\n",
    "    for i in range(len(ts)-2, 0, -1):\n",
    "        dt = ts[i+1]-ts[i]\n",
    "        p = 1-np.exp(-lambd*dt)\n",
    "        V = p*u_D(paths[i+1]) + (1-p)*V - alpha*dt #valeur future je pense (equivakent à l'actualisation des payoff optimale futur en americaine )\n",
    "        betas[i], functions[i] =expected(V, paths[i])#expected(ydata, xdata)\n",
    "        lambd = np.where(u_D(paths[i]) >= np.vstack([f(paths[i]) for f in functions[i]]).T @ betas[i], lambda_max, lambda_min)\n",
    "\n",
    "\n",
    "\n",
    "    # independent simulation longstaff schwartz piecewise\n",
    "    \n",
    "    paths = blackscholes_mc(S, vol, r, q, ts,50000)\n",
    "    V = u_mat(paths[-1])\n",
    "    lambd = np.where(u_D(paths[-1]) >= V, lambda_max, lambda_min)\n",
    "    K = 0.5*(K_mat+K_D)\n",
    "    for i in range(len(ts)-2, -1, -1):\n",
    "        dt = ts[i+1]-ts[i]\n",
    "        p = 1-np.exp(-lambd*dt)\n",
    "        V = p*u_D(paths[i+1]) + (1-p)*V - alpha*dt\n",
    "        \n",
    "        if i!=0: lambd = np.where(u_D(paths[i]) >= np.vstack([f(paths[i]) for f in functions[i]]).T @ betas[i], lambda_max, lambda_min)\n",
    "    \n",
    "    return np.mean(V)\n"
   ]
  },
  {
   "cell_type": "code",
   "execution_count": 229,
   "metadata": {},
   "outputs": [
    {
     "name": "stdout",
     "output_type": "stream",
     "text": [
      "using piecewise-linear fit, the price is  3.1847681704120085\n"
     ]
    }
   ],
   "source": [
    "print( \"using piecewise-linear fit, the price is \",  princing_longstaff(3))"
   ]
  },
  {
   "cell_type": "markdown",
   "metadata": {},
   "source": [
    "<b style=\"color:pink\">Question b</b> comparing the BSDE scheme with the Longstaff-Schwartz-like scheme"
   ]
  },
  {
   "cell_type": "code",
   "execution_count": 155,
   "metadata": {},
   "outputs": [],
   "source": [
    "def BSDE():\n",
    "    X1 = blackscholes_mc(S, vol, r, q, ts, 5000)\n",
    "    Y= u_mat(X1[-1])\n",
    "    betas = np.zeros((len(ts)-1, 12))\n",
    "    functions = [None] * (len(ts)-1)\n",
    "    for i in range(len(ts)-2, -1, -1):\n",
    "        Y, betas[i], functions[i] = calculate_Y(X1[i],Y)\n",
    "\n",
    "    ##second simulation\n",
    "    X2= blackscholes_mc(S, vol, r, q, ts, 50000)\n",
    "    Y=u_mat(X2[-1])\n",
    "    for i in range(len(ts)-2, -1, -1):\n",
    "        Y= calculate_Y2(X2[i],i,betas)\n",
    "    return Y"
   ]
  },
  {
   "cell_type": "code",
   "execution_count": 156,
   "metadata": {},
   "outputs": [],
   "source": [
    "V_BSDE=[BSDE() for i in range(20)]"
   ]
  },
  {
   "cell_type": "code",
   "execution_count": 157,
   "metadata": {},
   "outputs": [],
   "source": [
    "V_longstaff=[princing_longstaff(3) for i in range(20)]"
   ]
  },
  {
   "cell_type": "code",
   "execution_count": 158,
   "metadata": {},
   "outputs": [
    {
     "name": "stdout",
     "output_type": "stream",
     "text": [
      "variance of the BSDE scheme 0.07729220282366109\n",
      "Longstaff-Schwartz-like scheme 0.01138912154217971\n"
     ]
    }
   ],
   "source": [
    "print(\"variance of the BSDE scheme\",np.var(V_BSDE))\n",
    "print(\"Longstaff-Schwartz-like scheme\",np.var(V_longstaff))\n"
   ]
  },
  {
   "cell_type": "code",
   "execution_count": 159,
   "metadata": {},
   "outputs": [],
   "source": [
    "V_BSDE=[BSDE() for i in range(20)]"
   ]
  },
  {
   "cell_type": "markdown",
   "metadata": {},
   "source": [
    "The variance of the Longstaff-Schwartz-like scheme is lower than that of the BSDE scheme. I expected the opposite, given the deterministic nature of the BSDE scheme. I think that the regression in the BSDE scheme introduces significant variance."
   ]
  },
  {
   "cell_type": "markdown",
   "metadata": {},
   "source": [
    "<b style=\"color:pink\">Question c</b>: The value of the fee alpha that makes the deal costless at inception.\n",
    "\n",
    "We can use the Newton-Raphson method to find the alpha that makes the deal costless. However, due to time constraints, I attempted to find an estimation using a brute-force method by testing different alpha values in the Longstaff-Schwartz method."
   ]
  },
  {
   "cell_type": "code",
   "execution_count": 160,
   "metadata": {},
   "outputs": [
    {
     "name": "stdout",
     "output_type": "stream",
     "text": [
      "0.6207191256920258\n",
      "0.6407008974440574\n",
      "0.5469309207643216\n",
      "0.4445195694706811\n",
      "0.3870040924676561\n",
      "0.03698897171490267\n",
      "0.0920809984312716\n",
      "-0.05984297035645568\n",
      "-0.1384078458603591\n",
      "-0.027321160810623614\n"
     ]
    }
   ],
   "source": [
    "for alpha in np.linspace(3.3,3.4,10):\n",
    "    print(princing_longstaff(alpha))"
   ]
  },
  {
   "cell_type": "code",
   "execution_count": 162,
   "metadata": {},
   "outputs": [
    {
     "name": "stdout",
     "output_type": "stream",
     "text": [
      "The estimated contract value for alpha=3.377 is 0.011591526752731623\n"
     ]
    }
   ],
   "source": [
    "print(\"The estimated contract value for alpha=3.377 is\",\n",
    "      np.mean([princing_longstaff(3.37777777) for i in range(10)]))"
   ]
  },
  {
   "cell_type": "markdown",
   "metadata": {},
   "source": [
    "<b style=\"color:darkorange\">Question 4.</b> Set $K_D=0$, and all the other parameters remain the same, in particualr $\\alpha=3$. Then the default event is equivalent to lapse (with no mortality payoff). It has been observed that insurance subscribers do not lapse optimally, which explains the use of the uncertain lapse model with minimum and maximum lapse rates $\\underline{\\lambda}$, $\\overline{\\lambda}$. \n",
    "\n",
    "<b>(a).</b> If insurance subscribers were to lapse optimally, i.e., exercise optimally their option to lapse, how would you price the contract?\n",
    "\n",
    "<b>(b).</b> Explain how you can get this price (from optimal exercise) in the uncertain lapse model. Reuse the code provided in Question 3 to show your result (you may have to change some parameters in the code).\n",
    "\n",
    "<b>(c).</b> Implement Longstaff-Schwartz algorithm to price the American option with payoff $u^D=0$ (Always perform a second indepedent run to get a clean lower bound price). Compare the price from uncertain lapse model in part (b) with the American price."
   ]
  },
  {
   "cell_type": "markdown",
   "metadata": {},
   "source": [
    "<b style=\"color:purple\">Question a</b>  how  to price the contract?"
   ]
  },
  {
   "cell_type": "markdown",
   "metadata": {},
   "source": [
    "If insurance subscribers were to lapse optimally, the pricing of the contract would be analogous to valuing an American-style option, where the policyholder has the right to terminate the contract at any time in order to maximize their financial gain.\n",
    "\n",
    "\n",
    "The policyholder faces an optimal stopping problem: they decide whether to continue the contract or lapse, depending on whether the continuation value of the contract is greater than the immediate lapse value.\n",
    "This is similar to pricing an American put option, where the policyholder compares the intrinsic value (the immediate lapse value) with the expected future value of holding the contract."
   ]
  },
  {
   "cell_type": "markdown",
   "metadata": {},
   "source": [
    "<b style=\"color:purple\">Question b</b>  price (from optimal exercise) in the uncertain lapse model"
   ]
  },
  {
   "cell_type": "markdown",
   "metadata": {},
   "source": [
    "we can get this price by setting $\\lambda min=0 ,\\lambda max=\\infty$"
   ]
  },
  {
   "cell_type": "code",
   "execution_count": 169,
   "metadata": {},
   "outputs": [
    {
     "name": "stdout",
     "output_type": "stream",
     "text": [
      "price of the american contract : 3.588851713970721\n"
     ]
    }
   ],
   "source": [
    "K_D=0\n",
    "lambda_min=0\n",
    "lambda_max=10000 #approximating infinity\n",
    "alpha=3\n",
    "print(\"price of the american contract :\",princing_longstaff(alpha))"
   ]
  },
  {
   "cell_type": "markdown",
   "metadata": {},
   "source": [
    "<b style=\"color:purple\">Question c</b>  Longstaff-Schwartz algorithm to price the American option with payoff $u^D=0$"
   ]
  },
  {
   "cell_type": "markdown",
   "metadata": {},
   "source": [
    "Lets use a polynomial interpolation"
   ]
  },
  {
   "cell_type": "code",
   "execution_count": 177,
   "metadata": {},
   "outputs": [
    {
     "name": "stderr",
     "output_type": "stream",
     "text": [
      "C:\\Users\\tahab\\AppData\\Local\\Temp\\ipykernel_19844\\2412396233.py:8: RankWarning: Polyfit may be poorly conditioned\n",
      "  betas[i]=np.polyfit(paths[i], payoff, deg=4)\n"
     ]
    },
    {
     "name": "stdout",
     "output_type": "stream",
     "text": [
      "Price of the American option with payoff u^D=0 using Longstaff-Schwartz algorithm : 12.458901571665065\n"
     ]
    }
   ],
   "source": [
    "K_D=0\n",
    "paths = blackscholes_mc(S, vol, r, q, ts, 5000)\n",
    "betas = np.zeros((len(ts), 5))\n",
    "dt=ts[1]-ts[0]\n",
    "payoff = u_mat(paths[-1])\n",
    "for i in range(len(ts)-1,-1,-1):\n",
    "    payoff=np.where(payoff-alpha*dt>0,payoff-alpha*dt,0)\n",
    "    betas[i]=np.polyfit(paths[i], payoff, deg=4)\n",
    "    contval=np.polyval(betas[i],paths[i])\n",
    "    exerval=u_D(payoff)\n",
    "    ind=exerval>contval\n",
    "    payoff[ind]=exerval[ind]\n",
    "\n",
    "paths = blackscholes_mc(S, vol, 0, 0, ts, 50000)\n",
    "payoff = u_mat(paths[-1])\n",
    "for i in range(len(ts)-1,-1,-1):\n",
    "    payoff=np.where(payoff-alpha*dt>0,payoff-alpha*dt,0)\n",
    "    contval=np.polyval(betas[i],paths[i])\n",
    "    exerval=u_D(payoff)\n",
    "    ind=exerval>contval\n",
    "    payoff[ind]=exerval[ind]\n",
    "\n",
    "print(\"Price of the American option with payoff u^D=0 using Longstaff-Schwartz algorithm :\", np.mean(payoff))"
   ]
  },
  {
   "cell_type": "markdown",
   "metadata": {},
   "source": [
    "The price from the uncertain lapse model should be lower than the American price because it is more constrained. The control interval is larger in the second case"
   ]
  }
 ],
 "metadata": {
  "anaconda-cloud": {},
  "kernelspec": {
   "display_name": "Python 3 (ipykernel)",
   "language": "python",
   "name": "python3"
  },
  "language_info": {
   "codemirror_mode": {
    "name": "ipython",
    "version": 3
   },
   "file_extension": ".py",
   "mimetype": "text/x-python",
   "name": "python",
   "nbconvert_exporter": "python",
   "pygments_lexer": "ipython3",
   "version": "3.10.11"
  },
  "name": "Uncertain Mortality.ipynb"
 },
 "nbformat": 4,
 "nbformat_minor": 4
}
